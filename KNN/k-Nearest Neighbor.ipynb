{
 "cells": [
  {
   "cell_type": "code",
   "execution_count": 1,
   "metadata": {},
   "outputs": [],
   "source": [
    "import matplotlib.pyplot as plt\n",
    "import numpy as np\n",
    "import operator"
   ]
  },
  {
   "cell_type": "code",
   "execution_count": 10,
   "metadata": {},
   "outputs": [
    {
     "data": {
      "image/png": "[encoded data removed]",
      "text/plain": [
       "<Figure size 432x288 with 1 Axes>"
      ]
     },
     "metadata": {
      "needs_background": "light"
     },
     "output_type": "display_data"
    }
   ],
   "source": [
    "#已知分类的数据\n",
    "x1 = np.array([3,2,1])\n",
    "y1 = np.array([104,100,81])\n",
    "\n",
    "x2 = np.array([101,99,98])\n",
    "y2 = np.array([10,5,2])\n",
    "\n",
    "scatter1 = plt.scatter(x1 , y1 , c = 'r')\n",
    "scatter2 = plt.scatter(x2 , y2 , c = 'b')\n",
    "\n",
    "#未知数据\n",
    "x = np.array([18])\n",
    "y = np.array([90])\n",
    "scatter3 = plt.scatter(x , y , c = 'k' , marker='x')\n",
    "\n",
    "#画图例\n",
    "plt.legend(handles = [scatter1 , scatter2 ,scatter3] , labels = ['labelA','labelB' , 'labelC'] , loc = 'best')\n",
    "\n",
    "plt.show()"
   ]
  },
  {
   "cell_type": "code",
   "execution_count": 11,
   "metadata": {},
   "outputs": [],
   "source": [
    "#已知分类的数据\n",
    "x_data = np.array([[3,104]\n",
    "                 ,[2,100]\n",
    "                 ,[1,81]\n",
    "                 ,[101,10]\n",
    "                 ,[99,5]\n",
    "                 ,[81,2]])\n",
    "y_data = np.array(['A','A','A','B','B','B'])\n",
    "x_test = np.array([18,90])"
   ]
  },
  {
   "cell_type": "code",
   "execution_count": 17,
   "metadata": {},
   "outputs": [],
   "source": [
    "def kNNclass(x_data , y_data , x_test , k):\n",
    "    x_data_size = len(x_data)\n",
    "    diffMat = np.tile(x_test , (x_data_size , 1)) - x_data\n",
    "    sqDiffMat = diffMat**2\n",
    "    sqDistance = sqDiffMat.sum(axis = 1)\n",
    "    distance = np.sqrt(sqDistance)\n",
    "    sortDistance = distance.argsort()\n",
    "    \n",
    "    classCount = {}\n",
    "    for i in range(k):\n",
    "        votelabel = y_data[sortDistance[i]]\n",
    "        classCount[votelabel] = classCount.get(votelabel,0) + 1\n",
    "    sortClassCount = sorted(classCount.items() , key = operator.itemgetter(1) , reverse = True)\n",
    "    knnclass = sortClassCount[0][0]\n",
    "    return knnclass"
   ]
  },
  {
   "cell_type": "code",
   "execution_count": 22,
   "metadata": {},
   "outputs": [
    {
     "data": {
      "text/plain": [
       "'B'"
      ]
     },
     "execution_count": 22,
     "metadata": {},
     "output_type": "execute_result"
    }
   ],
   "source": [
    "kNNclass(x_data , y_data , np.array([90,10]) , 5)"
   ]
  },
  {
   "cell_type": "code",
   "execution_count": null,
   "metadata": {},
   "outputs": [],
   "source": []
  }
 ],
 "metadata": {
  "kernelspec": {
   "display_name": "Python 3",
   "language": "python",
   "name": "python3"
  },
  "language_info": {
   "codemirror_mode": {
    "name": "ipython",
    "version": 3
   },
   "file_extension": ".py",
   "mimetype": "text/x-python",
   "name": "python",
   "nbconvert_exporter": "python",
   "pygments_lexer": "ipython3",
   "version": "3.7.0"
  }
 },
 "nbformat": 4,
 "nbformat_minor": 2
}
