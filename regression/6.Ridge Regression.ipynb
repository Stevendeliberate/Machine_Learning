{
 "cells": [
  {
   "cell_type": "code",
   "execution_count": 9,
   "metadata": {},
   "outputs": [],
   "source": [
    "import numpy as np\n",
    "import matplotlib.pyplot as plt"
   ]
  },
  {
   "cell_type": "code",
   "execution_count": 10,
   "metadata": {},
   "outputs": [
    {
     "name": "stdout",
     "output_type": "stream",
     "text": [
      "[[     nan      nan      nan      nan      nan      nan      nan      nan]\n",
      " [     nan   83.     234.289  235.6    159.     107.608 1947.      60.323]\n",
      " [     nan   88.5    259.426  232.5    145.6    108.632 1948.      61.122]\n",
      " [     nan   88.2    258.054  368.2    161.6    109.773 1949.      60.171]\n",
      " [     nan   89.5    284.599  335.1    165.     110.929 1950.      61.187]\n",
      " [     nan   96.2    328.975  209.9    309.9    112.075 1951.      63.221]\n",
      " [     nan   98.1    346.999  193.2    359.4    113.27  1952.      63.639]\n",
      " [     nan   99.     365.385  187.     354.7    115.094 1953.      64.989]\n",
      " [     nan  100.     363.112  357.8    335.     116.219 1954.      63.761]\n",
      " [     nan  101.2    397.469  290.4    304.8    117.388 1955.      66.019]\n",
      " [     nan  104.6    419.18   282.2    285.7    118.734 1956.      67.857]\n",
      " [     nan  108.4    442.769  293.6    279.8    120.445 1957.      68.169]\n",
      " [     nan  110.8    444.546  468.1    263.7    121.95  1958.      66.513]\n",
      " [     nan  112.6    482.704  381.3    255.2    123.366 1959.      68.655]\n",
      " [     nan  114.2    502.601  393.1    251.4    125.368 1960.      69.564]\n",
      " [     nan  115.7    518.173  480.6    257.2    127.852 1961.      69.331]\n",
      " [     nan  116.9    554.894  400.7    282.7    130.081 1962.      70.551]]\n"
     ]
    }
   ],
   "source": [
    "data = np.genfromtxt(\"longley.csv\",delimiter=\",\")\n",
    "print(data)"
   ]
  },
  {
   "cell_type": "code",
   "execution_count": 11,
   "metadata": {},
   "outputs": [
    {
     "name": "stdout",
     "output_type": "stream",
     "text": [
      "[[1.00000e+00 2.34289e+02 2.35600e+02 1.59000e+02 1.07608e+02 1.94700e+03\n",
      "  6.03230e+01]\n",
      " [1.00000e+00 2.59426e+02 2.32500e+02 1.45600e+02 1.08632e+02 1.94800e+03\n",
      "  6.11220e+01]\n",
      " [1.00000e+00 2.58054e+02 3.68200e+02 1.61600e+02 1.09773e+02 1.94900e+03\n",
      "  6.01710e+01]\n",
      " [1.00000e+00 2.84599e+02 3.35100e+02 1.65000e+02 1.10929e+02 1.95000e+03\n",
      "  6.11870e+01]\n",
      " [1.00000e+00 3.28975e+02 2.09900e+02 3.09900e+02 1.12075e+02 1.95100e+03\n",
      "  6.32210e+01]\n",
      " [1.00000e+00 3.46999e+02 1.93200e+02 3.59400e+02 1.13270e+02 1.95200e+03\n",
      "  6.36390e+01]\n",
      " [1.00000e+00 3.65385e+02 1.87000e+02 3.54700e+02 1.15094e+02 1.95300e+03\n",
      "  6.49890e+01]\n",
      " [1.00000e+00 3.63112e+02 3.57800e+02 3.35000e+02 1.16219e+02 1.95400e+03\n",
      "  6.37610e+01]\n",
      " [1.00000e+00 3.97469e+02 2.90400e+02 3.04800e+02 1.17388e+02 1.95500e+03\n",
      "  6.60190e+01]\n",
      " [1.00000e+00 4.19180e+02 2.82200e+02 2.85700e+02 1.18734e+02 1.95600e+03\n",
      "  6.78570e+01]\n",
      " [1.00000e+00 4.42769e+02 2.93600e+02 2.79800e+02 1.20445e+02 1.95700e+03\n",
      "  6.81690e+01]\n",
      " [1.00000e+00 4.44546e+02 4.68100e+02 2.63700e+02 1.21950e+02 1.95800e+03\n",
      "  6.65130e+01]\n",
      " [1.00000e+00 4.82704e+02 3.81300e+02 2.55200e+02 1.23366e+02 1.95900e+03\n",
      "  6.86550e+01]\n",
      " [1.00000e+00 5.02601e+02 3.93100e+02 2.51400e+02 1.25368e+02 1.96000e+03\n",
      "  6.95640e+01]\n",
      " [1.00000e+00 5.18173e+02 4.80600e+02 2.57200e+02 1.27852e+02 1.96100e+03\n",
      "  6.93310e+01]\n",
      " [1.00000e+00 5.54894e+02 4.00700e+02 2.82700e+02 1.30081e+02 1.96200e+03\n",
      "  7.05510e+01]]\n",
      "[ 83.   88.5  88.2  89.5  96.2  98.1  99.  100.  101.2 104.6 108.4 110.8\n",
      " 112.6 114.2 115.7 116.9]\n"
     ]
    }
   ],
   "source": [
    "x_data = data[1:,2:]\n",
    "y_data = data[1:,1]\n",
    "x_data = np.insert(x_data,0,values=np.ones(len(x_data)),axis = 1)\n",
    "print(x_data)\n",
    "print(y_data)"
   ]
  },
  {
   "cell_type": "code",
   "execution_count": 12,
   "metadata": {},
   "outputs": [],
   "source": [
    "def Ridge(xArr , yArr , lam):\n",
    "    xTx = np.dot(xArr.T , xArr)\n",
    "    temp  = xTx + lam * np.eye(len(xTx))\n",
    "    temp1 = np.dot(np.linalg.inv(temp),xArr.T)\n",
    "    theta = np.dot(temp1 , yArr)\n",
    "    return theta"
   ]
  },
  {
   "cell_type": "code",
   "execution_count": 13,
   "metadata": {},
   "outputs": [],
   "source": [
    "theta = Ridge(x_data , y_data , 0.1)"
   ]
  },
  {
   "cell_type": "code",
   "execution_count": 14,
   "metadata": {},
   "outputs": [],
   "source": [
    "theta = theta[:,np.newaxis]"
   ]
  },
  {
   "cell_type": "code",
   "execution_count": 15,
   "metadata": {},
   "outputs": [
    {
     "data": {
      "text/plain": [
       "(7, 1)"
      ]
     },
     "execution_count": 15,
     "metadata": {},
     "output_type": "execute_result"
    }
   ],
   "source": [
    "theta.shape"
   ]
  },
  {
   "cell_type": "code",
   "execution_count": 20,
   "metadata": {},
   "outputs": [
    {
     "data": {
      "text/plain": [
       "(16, 1)"
      ]
     },
     "execution_count": 20,
     "metadata": {},
     "output_type": "execute_result"
    }
   ],
   "source": [
    "np.dot(x_data , theta).shape"
   ]
  },
  {
   "cell_type": "code",
   "execution_count": 66,
   "metadata": {},
   "outputs": [
    {
     "data": {
      "image/png": "[encoded data removed]",
      "text/plain": [
       "<Figure size 432x288 with 1 Axes>"
      ]
     },
     "metadata": {
      "needs_background": "light"
     },
     "output_type": "display_data"
    },
    {
     "data": {
      "text/plain": [
       "'随着 的增大，各元素 的绝对值均趋于不断变小，它们相对于正确值 的偏差也越来越大。 \\n趋于无穷大时， 趋于0。其中， 随 的改变而变化的轨迹，就称为岭迹。实际计算中可选非常多的 值，\\n做出一个岭迹图，看看这个图在取哪个值的时候变稳定了，那就确定 值了。'"
      ]
     },
     "execution_count": 66,
     "metadata": {},
     "output_type": "execute_result"
    }
   ],
   "source": [
    "a = np.linspace(0,10,100)\n",
    "plt.figure()\n",
    "plt.xlim(0,0.2)\n",
    "plt.ylim(0,0.3)\n",
    "y = np.ones((7,100))\n",
    "for i in range(100):\n",
    "    y[:,i] = Ridge(x_data , y_data , a[i])\n",
    "for i in range(7):\n",
    "    plt.plot(a , y[i,:])\n",
    "plt.show()\n",
    "\"\"\"随着 的增大，各元素 的绝对值均趋于不断变小，它们相对于正确值 的偏差也越来越大。 \n",
    "趋于无穷大时， 趋于0。其中， 随 的改变而变化的轨迹，就称为岭迹。实际计算中可选非常多的 值，\n",
    "做出一个岭迹图，看看这个图在取哪个值的时候变稳定了，那就确定 值了。\"\"\"\n",
    "#由图可知 lam为0.1时 各参数区域稳定 ，则lam = 0.1 是最佳值\n"
   ]
  },
  {
   "cell_type": "code",
   "execution_count": 67,
   "metadata": {},
   "outputs": [],
   "source": [
    "y_data = y_data[:,np.newaxis]"
   ]
  },
  {
   "cell_type": "code",
   "execution_count": 68,
   "metadata": {},
   "outputs": [
    {
     "name": "stdout",
     "output_type": "stream",
     "text": [
      "[[-0.6008158  -0.51544822 -0.55144411 ... -1.30284649 -1.30482437\n",
      "  -1.30677256]\n",
      " [ 1.55027299  1.56628813  1.57426365 ...  1.66550508  1.66555251\n",
      "   1.66559834]\n",
      " [ 0.10322849  0.10969797  0.10266298 ... -0.0322287  -0.03256124\n",
      "  -0.03288887]\n",
      " ...\n",
      " [ 0.2710213   0.20648745  0.21662628 ...  0.48235604  0.48320125\n",
      "   0.48403459]\n",
      " [ 0.19785669  0.42608186  0.40106698 ... -0.16470777 -0.16630658\n",
      "  -0.16788187]\n",
      " [-0.64028248 -0.71266188 -0.74340379 ... -1.75590869 -1.75952039\n",
      "  -1.76308214]]\n"
     ]
    }
   ],
   "source": [
    "temp = np.zeros((16,100))\n",
    "for i in range(100):\n",
    "    temp[:,i] = y_data[:,0] - np.dot(x_data , y[:,i])\n",
    "print(temp)"
   ]
  },
  {
   "cell_type": "code",
   "execution_count": 70,
   "metadata": {},
   "outputs": [
    {
     "data": {
      "image/png": "[encoded data removed]",
      "text/plain": [
       "<Figure size 432x288 with 1 Axes>"
      ]
     },
     "metadata": {
      "needs_background": "light"
     },
     "output_type": "display_data"
    }
   ],
   "source": [
    "error2 = np.zeros(100)\n",
    "for j in range(100):\n",
    "    for i in range(16):\n",
    "        error2[j] += temp[i,j]**2\n",
    "plt.plot(a , error2)\n",
    "plt.show()"
   ]
  },
  {
   "cell_type": "code",
   "execution_count": 72,
   "metadata": {},
   "outputs": [
    {
     "data": {
      "text/plain": [
       "array([12.8440023 , 13.24312391, 13.27165941, 13.31403463, 13.36714003,\n",
       "       13.42857422, 13.49646393, 13.56933468, 13.64601656, 13.72557481,\n",
       "       13.80725799, 13.89045878, 13.9746842 , 14.05953256, 14.14467569,\n",
       "       14.22984489, 14.3148199 , 14.39942015, 14.48349771, 14.56693161,\n",
       "       14.64962327, 14.73149274, 14.81247567, 14.89252071, 14.97158749,\n",
       "       15.04964484, 15.12666937, 15.20264423, 15.27755811, 15.35140437,\n",
       "       15.42418032, 15.49588661, 15.56652668, 15.63610636, 15.70463343,\n",
       "       15.77211735, 15.83856897, 15.90400025, 15.96842412, 16.03185423,\n",
       "       16.09430488, 16.15579082, 16.21632718, 16.27592935, 16.33461292,\n",
       "       16.39239358, 16.44928709, 16.50530919, 16.5604756 , 16.61480196,\n",
       "       16.66830376, 16.7209964 , 16.77289508, 16.82401482, 16.87437045,\n",
       "       16.92397658, 16.9728476 , 17.02099767, 17.06844069, 17.11519034,\n",
       "       17.16126004, 17.20666295, 17.25141198, 17.29551981, 17.33899884,\n",
       "       17.38186123, 17.42411889, 17.46578346, 17.50686637, 17.54737879,\n",
       "       17.58733163, 17.62673561, 17.66560118, 17.70393857, 17.74175778,\n",
       "       17.77906862, 17.81588064, 17.85220321, 17.88804548, 17.9234164 ,\n",
       "       17.95832471, 17.99277897, 18.02678754, 18.06035859, 18.09350013,\n",
       "       18.12621997, 18.15852574, 18.19042494, 18.22192485, 18.25303262,\n",
       "       18.28375525, 18.31409957, 18.34407225, 18.37367983, 18.4029287 ,\n",
       "       18.43182513, 18.46037521, 18.48858494, 18.51646016, 18.5440066 ])"
      ]
     },
     "execution_count": 72,
     "metadata": {},
     "output_type": "execute_result"
    }
   ],
   "source": [
    "error2"
   ]
  },
  {
   "cell_type": "code",
   "execution_count": 55,
   "metadata": {},
   "outputs": [
    {
     "data": {
      "text/plain": [
       "array([ 0.        ,  0.1010101 ,  0.2020202 ,  0.3030303 ,  0.4040404 ,\n",
       "        0.50505051,  0.60606061,  0.70707071,  0.80808081,  0.90909091,\n",
       "        1.01010101,  1.11111111,  1.21212121,  1.31313131,  1.41414141,\n",
       "        1.51515152,  1.61616162,  1.71717172,  1.81818182,  1.91919192,\n",
       "        2.02020202,  2.12121212,  2.22222222,  2.32323232,  2.42424242,\n",
       "        2.52525253,  2.62626263,  2.72727273,  2.82828283,  2.92929293,\n",
       "        3.03030303,  3.13131313,  3.23232323,  3.33333333,  3.43434343,\n",
       "        3.53535354,  3.63636364,  3.73737374,  3.83838384,  3.93939394,\n",
       "        4.04040404,  4.14141414,  4.24242424,  4.34343434,  4.44444444,\n",
       "        4.54545455,  4.64646465,  4.74747475,  4.84848485,  4.94949495,\n",
       "        5.05050505,  5.15151515,  5.25252525,  5.35353535,  5.45454545,\n",
       "        5.55555556,  5.65656566,  5.75757576,  5.85858586,  5.95959596,\n",
       "        6.06060606,  6.16161616,  6.26262626,  6.36363636,  6.46464646,\n",
       "        6.56565657,  6.66666667,  6.76767677,  6.86868687,  6.96969697,\n",
       "        7.07070707,  7.17171717,  7.27272727,  7.37373737,  7.47474747,\n",
       "        7.57575758,  7.67676768,  7.77777778,  7.87878788,  7.97979798,\n",
       "        8.08080808,  8.18181818,  8.28282828,  8.38383838,  8.48484848,\n",
       "        8.58585859,  8.68686869,  8.78787879,  8.88888889,  8.98989899,\n",
       "        9.09090909,  9.19191919,  9.29292929,  9.39393939,  9.49494949,\n",
       "        9.5959596 ,  9.6969697 ,  9.7979798 ,  9.8989899 , 10.        ])"
      ]
     },
     "execution_count": 55,
     "metadata": {},
     "output_type": "execute_result"
    }
   ],
   "source": [
    "a = np.linspace(0,10,100)\n",
    "a"
   ]
  },
  {
   "cell_type": "code",
   "execution_count": 28,
   "metadata": {},
   "outputs": [],
   "source": [
    "y_data = y_data[:,np.newaxis]"
   ]
  },
  {
   "cell_type": "code",
   "execution_count": 31,
   "metadata": {},
   "outputs": [
    {
     "data": {
      "text/plain": [
       "13.24292125530737"
      ]
     },
     "execution_count": 31,
     "metadata": {},
     "output_type": "execute_result"
    }
   ],
   "source": [
    "np.sum((y_data - np.dot(x_data , theta))**2)"
   ]
  },
  {
   "cell_type": "code",
   "execution_count": 26,
   "metadata": {},
   "outputs": [
    {
     "data": {
      "text/plain": [
       "(16, 16)"
      ]
     },
     "execution_count": 26,
     "metadata": {},
     "output_type": "execute_result"
    }
   ],
   "source": []
  },
  {
   "cell_type": "code",
   "execution_count": null,
   "metadata": {},
   "outputs": [],
   "source": []
  }
 ],
 "metadata": {
  "kernelspec": {
   "display_name": "Python 3",
   "language": "python",
   "name": "python3"
  },
  "language_info": {
   "codemirror_mode": {
    "name": "ipython",
    "version": 3
   },
   "file_extension": ".py",
   "mimetype": "text/x-python",
   "name": "python",
   "nbconvert_exporter": "python",
   "pygments_lexer": "ipython3",
   "version": "3.7.0"
  }
 },
 "nbformat": 4,
 "nbformat_minor": 2
}
