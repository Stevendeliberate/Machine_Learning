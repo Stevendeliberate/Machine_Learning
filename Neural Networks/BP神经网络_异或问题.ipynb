{
 "cells": [
  {
   "cell_type": "code",
   "execution_count": 4,
   "metadata": {},
   "outputs": [],
   "source": [
    "import numpy as np"
   ]
  },
  {
   "cell_type": "code",
   "execution_count": 5,
   "metadata": {},
   "outputs": [
    {
     "name": "stdout",
     "output_type": "stream",
     "text": [
      "[[-0.56780344 -0.1262297   0.17762651  0.82497309]\n",
      " [-0.38670385 -0.42281363 -0.33609743 -0.91157039]\n",
      " [-0.95064522 -0.3784742  -0.08125737  0.82373715]]\n",
      "[[-0.33328531]\n",
      " [-0.40831756]\n",
      " [ 0.92785647]\n",
      " [ 0.26503236]]\n"
     ]
    }
   ],
   "source": [
    "#输入数据\n",
    "X = np.array([[1,0,0]\n",
    "             ,[1,0,1]\n",
    "             ,[1,1,0]\n",
    "             ,[1,1,1]])\n",
    "\n",
    "#标签\n",
    "Y = np.array([[0,1,1,0]])\n",
    "#权值初始化，取值范围-1 到 1\n",
    "V = np.random.random((3,4)) * 2 -1\n",
    "W = np.random.random((4,1)) * 2 -1\n",
    "print(V)\n",
    "print(W)\n",
    "#学习率设置\n",
    "lr = 0.11\n",
    "\n",
    "def sigmoid(x):\n",
    "    return 1 / (1 + np.exp( -x ))\n",
    "\n",
    "#sigmoid函数的导数 用自己代表自己时 导数如下：\n",
    "def dsigmoid(x):\n",
    "    return x * (1 - x)\n",
    "\n",
    "def update():\n",
    "    global X,Y,W,V,lr\n",
    "    \n",
    "    L1 = sigmoid(np.dot(X,V)) #隐藏层输出（4，4）\n",
    "    L2 = sigmoid(np.dot(L1,W)) #输出层输出（4，1）\n",
    "    \n",
    "    L2_delta = (Y.T - L2) * dsigmoid(L2)\n",
    "    L1_delta = L2_delta.dot(W.T) * dsigmoid(L1)\n",
    "    \n",
    "    W_C = lr * L1.T.dot(L2_delta)\n",
    "    V_C = lr * X.T.dot(L1_delta)\n",
    "    \n",
    "    W = W + W_C\n",
    "    V = V + V_C"
   ]
  },
  {
   "cell_type": "code",
   "execution_count": 6,
   "metadata": {},
   "outputs": [
    {
     "name": "stdout",
     "output_type": "stream",
     "text": [
      "Error: 0.5000235219816583\n",
      "Error: 0.49596643975052335\n",
      "Error: 0.48745199674553075\n",
      "Error: 0.46061091869593423\n",
      "Error: 0.39180455143769244\n",
      "Error: 0.27803615733625714\n",
      "Error: 0.18710892213442912\n",
      "Error: 0.1383986252431922\n",
      "Error: 0.11110625620601425\n",
      "Error: 0.09399571705966972\n",
      "Error: 0.08227448448855385\n",
      "Error: 0.07371290276947881\n",
      "Error: 0.0671576142708051\n",
      "Error: 0.06195674282512538\n",
      "Error: 0.057714913856204496\n",
      "Error: 0.05417842692900196\n",
      "Error: 0.05117689299840526\n",
      "Error: 0.04859150376886982\n",
      "Error: 0.04633678446228924\n",
      "Error: 0.044349593499931686\n",
      "Error: 0.04258221982366803\n",
      "Error: 0.04099789993007121\n",
      "Error: 0.03956781834218526\n",
      "Error: 0.03826904769457464\n",
      "Error: 0.03708310127130576\n",
      "Error: 0.03599489499391461\n",
      "Error: 0.03499198938859079\n",
      "Error: 0.03406402690864819\n",
      "Error: 0.033202308068841266\n",
      "Error: 0.03239946785174701\n",
      "Error: 0.0316492256393507\n",
      "Error: 0.030946189799648013\n",
      "Error: 0.03028570341338814\n",
      "Error: 0.02966372132699067\n",
      "Error: 0.029076711313851367\n",
      "Error: 0.028521573972863583\n",
      "Error: 0.027995577323334082\n",
      "Error: 0.02749630302536984\n",
      "Error: 0.027021601869768097\n",
      "Error: 0.02656955671393682\n",
      "[[0.02445687]\n",
      " [0.96654532]\n",
      " [0.98396157]\n",
      " [0.0306072 ]]\n"
     ]
    }
   ],
   "source": [
    "for i in range(20000):\n",
    "    update() #更新权值\n",
    "    if i % 500 == 0:\n",
    "        L1 = sigmoid(np.dot(X,V)) #隐藏层输出（4，4）\n",
    "        L2 = sigmoid(np.dot(L1,W)) #输出层输出（4，1）\n",
    "        print('Error:',np.mean(np.abs(Y.T - L2)))\n",
    "\n",
    "L1 = sigmoid(np.dot(X,V))\n",
    "L2 = sigmoid(np.dot(L1,W))\n",
    "print(L2)\n"
   ]
  },
  {
   "cell_type": "code",
   "execution_count": null,
   "metadata": {},
   "outputs": [],
   "source": []
  },
  {
   "cell_type": "code",
   "execution_count": null,
   "metadata": {},
   "outputs": [],
   "source": []
  }
 ],
 "metadata": {
  "kernelspec": {
   "display_name": "Python 3",
   "language": "python",
   "name": "python3"
  },
  "language_info": {
   "codemirror_mode": {
    "name": "ipython",
    "version": 3
   },
   "file_extension": ".py",
   "mimetype": "text/x-python",
   "name": "python",
   "nbconvert_exporter": "python",
   "pygments_lexer": "ipython3",
   "version": "3.7.0"
  }
 },
 "nbformat": 4,
 "nbformat_minor": 2
}
