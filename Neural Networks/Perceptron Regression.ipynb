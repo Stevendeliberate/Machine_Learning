{
 "cells": [
  {
   "cell_type": "code",
   "execution_count": 51,
   "metadata": {},
   "outputs": [
    {
     "name": "stdout",
     "output_type": "stream",
     "text": [
      "[[1.91773792 4.28701527]]\n"
     ]
    },
    {
     "data": {
      "image/png": "[encoded data removed]",
      "text/plain": [
       "<Figure size 432x288 with 1 Axes>"
      ]
     },
     "metadata": {
      "needs_background": "light"
     },
     "output_type": "display_data"
    }
   ],
   "source": [
    "import numpy as np \n",
    "import matplotlib.pyplot as plt \n",
    "\n",
    "def purelin(x):\n",
    "    return x\n",
    "\n",
    "def update(x,y,w,lr=0.01,epoches=50000):\n",
    "    for i in range(epoches):\n",
    "        t = purelin(np.dot(w , x))\n",
    "        w_gard = y - t\n",
    "        w += lr * np.dot(w_gard,x.T)/x.shape[1]\n",
    "    return w\n",
    "\n",
    "#训练数据\n",
    "x_data = np.linspace(-10,10,20)\n",
    "noise = np.random.normal(-1,1,20)\n",
    "y_data = x_data * 2 + 5 + noise\n",
    "\n",
    "plt.plot(x_data, y_data,'r.')\n",
    "\n",
    "#数据预处理\n",
    "x_data = x_data.reshape((1,20))\n",
    "x_data = np.r_[x_data,np.ones(x_data.shape[1]).reshape((1,20))]\n",
    "w = np.ones(x_data.shape[0])\n",
    "w = w[np.newaxis,:]\n",
    "\n",
    "w = update(x_data , y_data , w)\n",
    "print(w)\n",
    "plt.plot(x_data[0,:],np.dot(w,x_data).T,'b')\n",
    "plt.show()"
   ]
  },
  {
   "cell_type": "code",
   "execution_count": 38,
   "metadata": {},
   "outputs": [
    {
     "data": {
      "text/plain": [
       "(1, 2)"
      ]
     },
     "execution_count": 38,
     "metadata": {},
     "output_type": "execute_result"
    }
   ],
   "source": [
    "w.shape"
   ]
  },
  {
   "cell_type": "code",
   "execution_count": null,
   "metadata": {},
   "outputs": [],
   "source": []
  }
 ],
 "metadata": {
  "kernelspec": {
   "display_name": "Python 3",
   "language": "python",
   "name": "python3"
  },
  "language_info": {
   "codemirror_mode": {
    "name": "ipython",
    "version": 3
   },
   "file_extension": ".py",
   "mimetype": "text/x-python",
   "name": "python",
   "nbconvert_exporter": "python",
   "pygments_lexer": "ipython3",
   "version": "3.7.4"
  }
 },
 "nbformat": 4,
 "nbformat_minor": 2
}
