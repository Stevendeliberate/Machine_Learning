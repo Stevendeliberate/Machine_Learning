{
 "cells": [
  {
   "cell_type": "code",
   "execution_count": 43,
   "metadata": {},
   "outputs": [],
   "source": [
    "import numpy as np\n",
    "import matplotlib.pyplot as plt"
   ]
  },
  {
   "cell_type": "code",
   "execution_count": 73,
   "metadata": {},
   "outputs": [
    {
     "name": "stdout",
     "output_type": "stream",
     "text": [
      "[[ 0.15092494]\n",
      " [-0.52054717]\n",
      " [-0.07271863]\n",
      " [ 0.47549913]\n",
      " [ 0.31764129]\n",
      " [-0.10905604]]\n"
     ]
    }
   ],
   "source": [
    "#输入数据\n",
    "X = np.array([[1,0,0,0,0,0]\n",
    "            ,[1,0,1,0,0,1]\n",
    "            ,[1,1,0,1,0,0]\n",
    "            ,[1,1,1,1,1,1]])\n",
    "\n",
    "#标签\n",
    "Y = np.array([[-1]\n",
    "             ,[1]\n",
    "             ,[1]\n",
    "             ,[-1]])\n",
    "\n",
    "#权值初始化5行1列，取值范围-1到1\n",
    "W = (np.random.random([6,1]) - 0.5) * 2\n",
    "\n",
    "print(W)"
   ]
  },
  {
   "cell_type": "code",
   "execution_count": 74,
   "metadata": {},
   "outputs": [],
   "source": [
    "def update(x , y , theta , lr , epoches):\n",
    "    xMat = np.mat(x)\n",
    "    yMat = np.mat(y)\n",
    "    t = np.mat(theta)\n",
    "    \n",
    "    for i in range(epoches):\n",
    "        #thete_gard\n",
    "        t_gard = lr * xMat.T * (yMat - xMat * t)/int(xMat.shape[0])\n",
    "        #更新theta\n",
    "        t = t + t_gard\n",
    "    return t"
   ]
  },
  {
   "cell_type": "code",
   "execution_count": 75,
   "metadata": {},
   "outputs": [
    {
     "data": {
      "text/plain": [
       "matrix([[-0.99033835],\n",
       "        [ 0.49392012],\n",
       "        [ 1.01011197],\n",
       "        [ 1.48996641],\n",
       "        [-3.97244243],\n",
       "        [ 0.97377456]])"
      ]
     },
     "execution_count": 75,
     "metadata": {},
     "output_type": "execute_result"
    }
   ],
   "source": [
    "theta =update(X,Y,W,0.11,1000)\n",
    "theta"
   ]
  },
  {
   "cell_type": "code",
   "execution_count": 76,
   "metadata": {},
   "outputs": [],
   "source": [
    "def calculate(x,theta,root):\n",
    "    a = theta[5,0]\n",
    "    b = theta[2,0] + x * theta[4,0]\n",
    "    c = theta[0,0] + theta[1,0] * x + theta[3,0] * x * x\n",
    "    \n",
    "    if root == 1:\n",
    "        return ( -b + np.sqrt(b * b - 4 * a * c)) / (2 * a)\n",
    "    if root == 2:\n",
    "        return ( -b - np.sqrt(b * b - 4 * a * c)) / (2 * a)"
   ]
  },
  {
   "cell_type": "code",
   "execution_count": 77,
   "metadata": {},
   "outputs": [
    {
     "data": {
      "image/png": "[encoded data removed]",
      "text/plain": [
       "<Figure size 432x288 with 1 Axes>"
      ]
     },
     "metadata": {
      "needs_background": "light"
     },
     "output_type": "display_data"
    }
   ],
   "source": [
    "#正样本\n",
    "x1 = [0,1]\n",
    "y1 = [1,0]\n",
    "#负样本\n",
    "x2 = [0,1]\n",
    "y2 = [0,1]\n",
    "plt.scatter(x1,y1,c='b')\n",
    "plt.scatter(x2,y2,c='y')\n",
    "\n",
    "x_data = np.linspace(-1,2)\n",
    "plt.plot(x_data , calculate(x_data,theta,1),'r')\n",
    "plt.plot(x_data , calculate(x_data,theta,2),'r')\n",
    "\n",
    "plt.show()"
   ]
  },
  {
   "cell_type": "code",
   "execution_count": null,
   "metadata": {},
   "outputs": [],
   "source": []
  }
 ],
 "metadata": {
  "kernelspec": {
   "display_name": "Python 3",
   "language": "python",
   "name": "python3"
  },
  "language_info": {
   "codemirror_mode": {
    "name": "ipython",
    "version": 3
   },
   "file_extension": ".py",
   "mimetype": "text/x-python",
   "name": "python",
   "nbconvert_exporter": "python",
   "pygments_lexer": "ipython3",
   "version": "3.7.0"
  }
 },
 "nbformat": 4,
 "nbformat_minor": 2
}
