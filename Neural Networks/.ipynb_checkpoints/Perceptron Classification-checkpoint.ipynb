{
 "cells": [
  {
   "cell_type": "code",
   "execution_count": 1,
   "metadata": {},
   "outputs": [],
   "source": [
    "import numpy as np\n",
    "import matplotlib.pyplot as plt"
   ]
  },
  {
   "cell_type": "code",
   "execution_count": 2,
   "metadata": {},
   "outputs": [
    {
     "name": "stdout",
     "output_type": "stream",
     "text": [
      "[[-20.84204447 -19.67570466 -16.10963005  -8.47182879  -8.36639948\n",
      "   -7.01540423  -5.61440903  -1.98804165  -1.46607265  -0.79407297]\n",
      " [-24.44395371 -21.45072419 -16.14328311 -14.46086736  -9.64282001\n",
      "   -5.18985598  -4.33065927  -2.3348931    5.29186828   8.30568262]\n",
      " [  1.           1.           1.           1.           1.\n",
      "    1.           1.           1.           1.           1.        ]]\n",
      "[[0 0 0 0 0 0 0 1 1 1]]\n",
      "[[1. 1. 1.]]\n"
     ]
    }
   ],
   "source": [
    "x_data = np.random.normal(-10,10,(2,10))\n",
    "x_data = np.sort(x_data)\n",
    "y_data = np.random.randint(0,2,(1,10))\n",
    "y_data = np.sort(y_data)\n",
    "\n",
    "#数据预处理\n",
    "x_data = np.r_[x_data,np.ones(x_data.shape[1]).reshape((1,10))]\n",
    "w = np.ones(x_data.shape[0])\n",
    "w = w[np.newaxis,:]\n",
    "\n",
    "print(x_data)\n",
    "print(y_data)\n",
    "print(w)"
   ]
  },
  {
   "cell_type": "code",
   "execution_count": 3,
   "metadata": {},
   "outputs": [
    {
     "data": {
      "image/png": "[encoded data removed]",
      "text/plain": [
       "<Figure size 432x288 with 1 Axes>"
      ]
     },
     "metadata": {
      "needs_background": "light"
     },
     "output_type": "display_data"
    }
   ],
   "source": [
    "plt.scatter(x_data[0,:],x_data[1,:],c = y_data[0,:])\n",
    "plt.show()"
   ]
  },
  {
   "cell_type": "code",
   "execution_count": 4,
   "metadata": {},
   "outputs": [],
   "source": [
    "def sgn(data):\n",
    "    x = data.copy()\n",
    "    temp = x>0\n",
    "    x[temp] = 1\n",
    "    temp = x<=0\n",
    "    x[temp] = 0\n",
    "    return x"
   ]
  },
  {
   "cell_type": "code",
   "execution_count": 5,
   "metadata": {},
   "outputs": [],
   "source": [
    "def update(x,y,w,lr=0.03,epoches=50000):\n",
    "    for i in range(epoches):\n",
    "        t = sgn(np.dot(w , x))\n",
    "        w_gard = y - t\n",
    "        w += lr * np.dot(w_gard,x.T)\n",
    "    return w"
   ]
  },
  {
   "cell_type": "code",
   "execution_count": 6,
   "metadata": {},
   "outputs": [],
   "source": [
    "w = update(x_data , y_data , w)"
   ]
  },
  {
   "cell_type": "code",
   "execution_count": 12,
   "metadata": {},
   "outputs": [
    {
     "name": "stdout",
     "output_type": "stream",
     "text": [
      "[[0. 0. 0. 0. 0. 0. 0. 1. 1. 1.]]\n",
      "[[0 0 0 0 0 0 0 1 1 1]]\n"
     ]
    }
   ],
   "source": [
    "print(sgn(np.dot(w , x_data)))\n",
    "print(y_data)"
   ]
  },
  {
   "cell_type": "code",
   "execution_count": null,
   "metadata": {},
   "outputs": [],
   "source": []
  }
 ],
 "metadata": {
  "kernelspec": {
   "display_name": "Python 3",
   "language": "python",
   "name": "python3"
  },
  "language_info": {
   "codemirror_mode": {
    "name": "ipython",
    "version": 3
   },
   "file_extension": ".py",
   "mimetype": "text/x-python",
   "name": "python",
   "nbconvert_exporter": "python",
   "pygments_lexer": "ipython3",
   "version": "3.7.4"
  }
 },
 "nbformat": 4,
 "nbformat_minor": 2
}
