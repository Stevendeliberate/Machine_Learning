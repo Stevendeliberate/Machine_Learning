{
 "cells": [
  {
   "cell_type": "code",
   "execution_count": 175,
   "metadata": {},
   "outputs": [],
   "source": [
    "import numpy as np"
   ]
  },
  {
   "cell_type": "code",
   "execution_count": 176,
   "metadata": {},
   "outputs": [
    {
     "name": "stdout",
     "output_type": "stream",
     "text": [
      "[[ 0.19733656 -0.18512975 -0.5752306  -0.55543874]\n",
      " [ 0.67970952 -0.05894593  0.38264058  0.52860682]\n",
      " [ 0.11601664 -0.84480584  0.88684962 -0.55125761]]\n",
      "[[ 0.36773846]\n",
      " [ 0.88843356]\n",
      " [ 0.91626821]\n",
      " [-0.31513377]]\n"
     ]
    }
   ],
   "source": [
    "#输入数据\n",
    "#输入数据\n",
    "X = np.array([[1,0,0]\n",
    "             ,[1,0,1]\n",
    "             ,[1,1,0]\n",
    "             ,[1,1,1]])\n",
    "\n",
    "#标签\n",
    "Y = np.array([[0,1,1,0]])\n",
    "#权值初始化，取值范围-1 到 1\n",
    "\n",
    "#隐藏层权值（3 * 4）这里的4 可以取值为a ，但不宜过多，也不宜过少\n",
    "V = np.random.random((3,4)) * 2 -1\n",
    "#输出层权值（4 * 1）这里的4即就是a值\n",
    "W = np.random.random((4,1)) * 2 -1\n",
    "\n",
    "print(V)\n",
    "print(W)\n",
    "#学习率设置\n",
    "lr = 0.11\n",
    "#迭代次数设置\n",
    "epoches = 20000"
   ]
  },
  {
   "cell_type": "code",
   "execution_count": 177,
   "metadata": {},
   "outputs": [],
   "source": [
    "#sigmoid函数\n",
    "def sigmoid(x):\n",
    "    return 1/(1+np.exp(-x))"
   ]
  },
  {
   "cell_type": "code",
   "execution_count": 178,
   "metadata": {},
   "outputs": [],
   "source": [
    "#sigmoid函数导数\n",
    "def dsigmoid(x):\n",
    "    return x * (1 - x)"
   ]
  },
  {
   "cell_type": "code",
   "execution_count": 179,
   "metadata": {},
   "outputs": [],
   "source": [
    "#BP神经网络\n",
    "#所有数据的乘法，theta都是作为乘数，即a * theta 而不能 theta * a 因为a是数据 而theta是给数据乘的权值。\n",
    "def update(x,y,theta1,theta2,lr,epoches):\n",
    "    for i in range(epoches):\n",
    "        \n",
    "        L1 = sigmoid(np.dot(x , theta1)) #(4 * 4)\n",
    "        L2 = sigmoid(np.dot(L1 , theta2)) #(4 * 1)\n",
    "        \n",
    "        L2_gard = dsigmoid(L2) * (y.T - L2) #( 4 * 1)\n",
    "        L1_gard = dsigmoid(L1) * np.dot(L2_gard ,theta2.T) #( 4 * 4) \n",
    "        \n",
    "        theta2 = theta2 + lr * np.dot(L1.T , L2_gard)\n",
    "        theta1 = theta1 + lr * np.dot(x.T  , L1_gard)\n",
    "    return theta1,theta2   "
   ]
  },
  {
   "cell_type": "code",
   "execution_count": 180,
   "metadata": {},
   "outputs": [
    {
     "data": {
      "text/plain": [
       "array([[0.69426892],\n",
       "       [0.71029652],\n",
       "       [0.71272882],\n",
       "       [0.72906636]])"
      ]
     },
     "execution_count": 180,
     "metadata": {},
     "output_type": "execute_result"
    }
   ],
   "source": [
    "L1 = sigmoid(np.dot(X , V)) #(4 * 4)\n",
    "L2 = sigmoid(np.dot(L1 , W)) #(4 * 1)\n",
    "L2"
   ]
  },
  {
   "cell_type": "code",
   "execution_count": 181,
   "metadata": {},
   "outputs": [],
   "source": [
    "V,W = update(X,Y,V,W,lr,epoches)"
   ]
  },
  {
   "cell_type": "code",
   "execution_count": 182,
   "metadata": {},
   "outputs": [
    {
     "data": {
      "text/plain": [
       "array([[0.01451014],\n",
       "       [0.97424237],\n",
       "       [0.97495119],\n",
       "       [0.02983833]])"
      ]
     },
     "execution_count": 182,
     "metadata": {},
     "output_type": "execute_result"
    }
   ],
   "source": [
    "L1 = sigmoid(np.dot(X , V)) #(4 * 4)\n",
    "L2 = sigmoid(np.dot(L1 , W)) #(4 * 1)\n",
    "L2"
   ]
  },
  {
   "cell_type": "code",
   "execution_count": null,
   "metadata": {},
   "outputs": [],
   "source": []
  }
 ],
 "metadata": {
  "kernelspec": {
   "display_name": "Python 3",
   "language": "python",
   "name": "python3"
  },
  "language_info": {
   "codemirror_mode": {
    "name": "ipython",
    "version": 3
   },
   "file_extension": ".py",
   "mimetype": "text/x-python",
   "name": "python",
   "nbconvert_exporter": "python",
   "pygments_lexer": "ipython3",
   "version": "3.7.0"
  }
 },
 "nbformat": 4,
 "nbformat_minor": 2
}
