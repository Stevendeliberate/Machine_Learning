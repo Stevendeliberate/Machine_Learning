{
 "cells": [
  {
   "cell_type": "code",
   "execution_count": 15,
   "metadata": {},
   "outputs": [],
   "source": [
    "import numpy as np\n",
    "import matplotlib.pyplot as plt"
   ]
  },
  {
   "cell_type": "code",
   "execution_count": 21,
   "metadata": {},
   "outputs": [
    {
     "name": "stdout",
     "output_type": "stream",
     "text": [
      "[[0.26933953]\n",
      " [0.40771505]\n",
      " [0.16163607]]\n"
     ]
    }
   ],
   "source": [
    "#输入数据\n",
    "X = np.array([[1,3,3],\n",
    "              [1,4,3],\n",
    "              [1,1,1],\n",
    "              [1,0,2]])\n",
    "#标签\n",
    "Y = np.array([[1],\n",
    "              [1],\n",
    "              [-1],\n",
    "              [-1]])\n",
    "\n",
    "#权值初始化，3行1列，取值范围-1到1\n",
    "W = (np.random.random([3,1])-0.5)*2\n",
    "\n",
    "print(W)\n",
    "#学习率设置\n",
    "lr = 0.11\n",
    "#神经网络输出\n",
    "O = 0\n",
    "\n",
    "def update():\n",
    "    global X,Y,W,lr\n",
    "    O = np.sign(np.dot(X,W))\n",
    "    W_C = lr*(X.T.dot(Y-O))/int(X.shape[0])\n",
    "    W = W + W_C"
   ]
  },
  {
   "cell_type": "code",
   "execution_count": 22,
   "metadata": {},
   "outputs": [
    {
     "name": "stdout",
     "output_type": "stream",
     "text": [
      "[[ 0.15933953]\n",
      " [ 0.35271505]\n",
      " [-0.00336393]]\n",
      "0\n",
      "[[ 0.04933953]\n",
      " [ 0.29771505]\n",
      " [-0.16836393]]\n",
      "1\n",
      "[[-0.00566047]\n",
      " [ 0.24271505]\n",
      " [-0.22336393]]\n",
      "2\n",
      "[[-0.06066047]\n",
      " [ 0.18771505]\n",
      " [-0.27836393]]\n",
      "3\n",
      "[[0.04933953]\n",
      " [0.57271505]\n",
      " [0.05163607]]\n",
      "4\n",
      "[[-0.06066047]\n",
      " [ 0.51771505]\n",
      " [-0.11336393]]\n",
      "5\n",
      "[[-0.11566047]\n",
      " [ 0.46271505]\n",
      " [-0.16836393]]\n",
      "6\n",
      "[[-0.17066047]\n",
      " [ 0.40771505]\n",
      " [-0.22336393]]\n",
      "7\n",
      "[[-0.22566047]\n",
      " [ 0.35271505]\n",
      " [-0.27836393]]\n",
      "8\n",
      "[[-0.17066047]\n",
      " [ 0.51771505]\n",
      " [-0.11336393]]\n",
      "9\n",
      "[[-0.22566047]\n",
      " [ 0.46271505]\n",
      " [-0.16836393]]\n",
      "10\n",
      "[[-0.28066047]\n",
      " [ 0.40771505]\n",
      " [-0.22336393]]\n",
      "11\n",
      "Finshed\n",
      "epoch 11\n",
      "k= [1.82533971]\n",
      "d= [-1.25651652]\n"
     ]
    },
    {
     "data": {
      "image/png": "[encoded data removed]",
      "text/plain": [
       "<Figure size 432x288 with 1 Axes>"
      ]
     },
     "metadata": {
      "needs_background": "light"
     },
     "output_type": "display_data"
    }
   ],
   "source": [
    "for i in range(100):\n",
    "    update()#更新权值\n",
    "    print(W)\n",
    "    print(i)\n",
    "    O = np.sign(np.dot(X,W))#计算当前输出\n",
    "    if(O == Y).all():\n",
    "        print('Finshed')\n",
    "        print('epoch',i)\n",
    "        break\n",
    "        \n",
    "#正样本\n",
    "x1 = [3,4]\n",
    "y1 = [3,3]\n",
    "#负样本\n",
    "x2 = [1,0]\n",
    "y2 = [1,2]\n",
    "\n",
    "#计算分界线的斜率以及截距\n",
    "k = -W[1]/W[2]\n",
    "d = -W[0]/W[2]\n",
    "print('k=',k)\n",
    "print('d=',d)\n",
    "\n",
    "xdata = (0,5)\n",
    "\n",
    "plt.figure()\n",
    "plt.plot(xdata,xdata*k+d,'r')\n",
    "plt.scatter(x1,y1,c='b')\n",
    "plt.scatter(x2,y2,c='y')\n",
    "plt.show()"
   ]
  },
  {
   "cell_type": "code",
   "execution_count": null,
   "metadata": {},
   "outputs": [],
   "source": []
  }
 ],
 "metadata": {
  "kernelspec": {
   "display_name": "Python 3",
   "language": "python",
   "name": "python3"
  },
  "language_info": {
   "codemirror_mode": {
    "name": "ipython",
    "version": 3
   },
   "file_extension": ".py",
   "mimetype": "text/x-python",
   "name": "python",
   "nbconvert_exporter": "python",
   "pygments_lexer": "ipython3",
   "version": "3.7.0"
  }
 },
 "nbformat": 4,
 "nbformat_minor": 2
}
