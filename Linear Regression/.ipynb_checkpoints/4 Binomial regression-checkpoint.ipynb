{
 "cells": [
  {
   "cell_type": "code",
   "execution_count": 10,
   "metadata": {},
   "outputs": [],
   "source": [
    "#多项式回归 ——二项式回归\n",
    "import numpy as np\n",
    "import matplotlib.pyplot as plt"
   ]
  },
  {
   "cell_type": "code",
   "execution_count": 11,
   "metadata": {},
   "outputs": [
    {
     "data": {
      "image/png": "[encoded data removed]",
      "text/plain": [
       "<Figure size 432x288 with 1 Axes>"
      ]
     },
     "metadata": {
      "needs_background": "light"
     },
     "output_type": "display_data"
    },
    {
     "name": "stdout",
     "output_type": "stream",
     "text": [
      "[[  1.   1.]\n",
      " [  2.   4.]\n",
      " [  3.   9.]\n",
      " [  4.  16.]\n",
      " [  5.  25.]\n",
      " [  6.  36.]\n",
      " [  7.  49.]\n",
      " [  8.  64.]\n",
      " [  9.  81.]\n",
      " [ 10. 100.]]\n",
      "[  45000.   50000.   60000.   80000.  110000.  150000.  200000.  300000.\n",
      "  500000. 1000000.]\n"
     ]
    }
   ],
   "source": [
    "#载入数据\n",
    "data = np.genfromtxt(\"job.csv\",delimiter=\",\")\n",
    "x_data = data[1:,1]\n",
    "y_data = data[1:,2]\n",
    "plt.scatter(x_data,y_data,c = 'b')\n",
    "plt.show()\n",
    "x_data = np.c_[x_data,x_data**2]\n",
    "print(x_data)\n",
    "print(y_data)"
   ]
  },
  {
   "cell_type": "code",
   "execution_count": 12,
   "metadata": {},
   "outputs": [],
   "source": [
    "def costfunction(x_data,y_data,theta0,theta1,theta2):\n",
    "    m = len(x_data)\n",
    "    sumError = 0\n",
    "    a = 1 / (float(m) * 2)\n",
    "    for i in range(m):\n",
    "        sumError += ((theta0 + theta1 * x_data[i,0] + theta1 * x_data[i,1]) - y_data[i]) ** 2\n",
    "    return sumError * a \n",
    "def gradientDecent(x_data,y_data,theta0,theta1,theta2,lr,repeat):\n",
    "    m = len(x_data)\n",
    "    for j in range(repeat):\n",
    "        theta0_temp = 0\n",
    "        theta1_temp = 0\n",
    "        theta2_temp = 0\n",
    "        for i in range(m):\n",
    "            theta0_temp += ((theta0 + theta1 * x_data[i,0] + theta2 * x_data[i,1]) - y_data[i])\n",
    "            theta1_temp += ((theta0 + theta1 * x_data[i,0] + theta2 * x_data[i,1]) - y_data[i]) * x_data[i,0]\n",
    "            theta2_temp += ((theta0 + theta1 * x_data[i,0] + theta2 * x_data[i,1]) - y_data[i]) * x_data[i,1]\n",
    "        #更新theta \n",
    "        theta0 = theta0 - lr * (1 / float(m)) * theta0_temp\n",
    "        theta1 = theta1 - lr * (1 / float(m)) * theta1_temp\n",
    "        theta2 = theta2 - lr * (1 / float(m)) * theta2_temp\n",
    "    return theta0,theta1,theta2"
   ]
  },
  {
   "cell_type": "code",
   "execution_count": 13,
   "metadata": {},
   "outputs": [
    {
     "name": "stdout",
     "output_type": "stream",
     "text": [
      "71456250000.0\n",
      "75995067629.92342\n"
     ]
    }
   ],
   "source": [
    "theta0 = 0\n",
    "theta1 = 0 \n",
    "theta2 = 0\n",
    "lr = 0.0001\n",
    "repeat = 100\n",
    "\n",
    "print(costfunction(x_data,y_data,theta0,theta1,theta2))\n",
    "theta0,theta1,theta2 = gradientDecent(x_data,y_data,theta0,theta1,theta2,lr,repeat)\n",
    "print(costfunction(x_data,y_data,theta0,theta1,theta2))"
   ]
  },
  {
   "cell_type": "code",
   "execution_count": 14,
   "metadata": {},
   "outputs": [
    {
     "data": {
      "image/png": "[encoded data removed]",
      "text/plain": [
       "<Figure size 432x288 with 1 Axes>"
      ]
     },
     "metadata": {
      "needs_background": "light"
     },
     "output_type": "display_data"
    }
   ],
   "source": [
    "plt.plot(x_data[:,0],theta0 + theta1 * x_data[:,0] + theta2 * x_data[:,1],c = 'b')\n",
    "plt.scatter(x_data[:,0],y_data,c = 'r')\n",
    "plt.show()"
   ]
  },
  {
   "cell_type": "code",
   "execution_count": null,
   "metadata": {},
   "outputs": [],
   "source": []
  }
 ],
 "metadata": {
  "kernelspec": {
   "display_name": "Python 3",
   "language": "python",
   "name": "python3"
  },
  "language_info": {
   "codemirror_mode": {
    "name": "ipython",
    "version": 3
   },
   "file_extension": ".py",
   "mimetype": "text/x-python",
   "name": "python",
   "nbconvert_exporter": "python",
   "pygments_lexer": "ipython3",
   "version": "3.7.0"
  }
 },
 "nbformat": 4,
 "nbformat_minor": 2
}
