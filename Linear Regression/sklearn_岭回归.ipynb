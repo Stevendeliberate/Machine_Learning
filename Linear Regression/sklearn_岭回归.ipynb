{
 "cells": [
  {
   "cell_type": "code",
   "execution_count": 1,
   "metadata": {},
   "outputs": [],
   "source": [
    "import numpy as np\n",
    "from sklearn import linear_model\n",
    "import matplotlib.pyplot as plt"
   ]
  },
  {
   "cell_type": "code",
   "execution_count": 3,
   "metadata": {},
   "outputs": [
    {
     "name": "stdout",
     "output_type": "stream",
     "text": [
      "[[     nan      nan      nan      nan      nan      nan      nan      nan]\n",
      " [     nan   83.     234.289  235.6    159.     107.608 1947.      60.323]\n",
      " [     nan   88.5    259.426  232.5    145.6    108.632 1948.      61.122]\n",
      " [     nan   88.2    258.054  368.2    161.6    109.773 1949.      60.171]\n",
      " [     nan   89.5    284.599  335.1    165.     110.929 1950.      61.187]\n",
      " [     nan   96.2    328.975  209.9    309.9    112.075 1951.      63.221]\n",
      " [     nan   98.1    346.999  193.2    359.4    113.27  1952.      63.639]\n",
      " [     nan   99.     365.385  187.     354.7    115.094 1953.      64.989]\n",
      " [     nan  100.     363.112  357.8    335.     116.219 1954.      63.761]\n",
      " [     nan  101.2    397.469  290.4    304.8    117.388 1955.      66.019]\n",
      " [     nan  104.6    419.18   282.2    285.7    118.734 1956.      67.857]\n",
      " [     nan  108.4    442.769  293.6    279.8    120.445 1957.      68.169]\n",
      " [     nan  110.8    444.546  468.1    263.7    121.95  1958.      66.513]\n",
      " [     nan  112.6    482.704  381.3    255.2    123.366 1959.      68.655]\n",
      " [     nan  114.2    502.601  393.1    251.4    125.368 1960.      69.564]\n",
      " [     nan  115.7    518.173  480.6    257.2    127.852 1961.      69.331]\n",
      " [     nan  116.9    554.894  400.7    282.7    130.081 1962.      70.551]]\n"
     ]
    }
   ],
   "source": [
    "#读入数据\n",
    "data = np.genfromtxt(\"longley.csv\",delimiter=\",\")\n",
    "print(data)"
   ]
  },
  {
   "cell_type": "code",
   "execution_count": 5,
   "metadata": {},
   "outputs": [
    {
     "name": "stdout",
     "output_type": "stream",
     "text": [
      "[[ 234.289  235.6    159.     107.608 1947.      60.323]\n",
      " [ 259.426  232.5    145.6    108.632 1948.      61.122]\n",
      " [ 258.054  368.2    161.6    109.773 1949.      60.171]\n",
      " [ 284.599  335.1    165.     110.929 1950.      61.187]\n",
      " [ 328.975  209.9    309.9    112.075 1951.      63.221]\n",
      " [ 346.999  193.2    359.4    113.27  1952.      63.639]\n",
      " [ 365.385  187.     354.7    115.094 1953.      64.989]\n",
      " [ 363.112  357.8    335.     116.219 1954.      63.761]\n",
      " [ 397.469  290.4    304.8    117.388 1955.      66.019]\n",
      " [ 419.18   282.2    285.7    118.734 1956.      67.857]\n",
      " [ 442.769  293.6    279.8    120.445 1957.      68.169]\n",
      " [ 444.546  468.1    263.7    121.95  1958.      66.513]\n",
      " [ 482.704  381.3    255.2    123.366 1959.      68.655]\n",
      " [ 502.601  393.1    251.4    125.368 1960.      69.564]\n",
      " [ 518.173  480.6    257.2    127.852 1961.      69.331]\n",
      " [ 554.894  400.7    282.7    130.081 1962.      70.551]]\n",
      "[ 83.   88.5  88.2  89.5  96.2  98.1  99.  100.  101.2 104.6 108.4 110.8\n",
      " 112.6 114.2 115.7 116.9]\n"
     ]
    }
   ],
   "source": [
    "#切分数据\n",
    "x_data = data[1:,2:]\n",
    "y_data = data[1:,1]\n",
    "print(x_data)\n",
    "print(y_data)"
   ]
  },
  {
   "cell_type": "code",
   "execution_count": 7,
   "metadata": {},
   "outputs": [
    {
     "name": "stdout",
     "output_type": "stream",
     "text": [
      "0.40875510204081633\n",
      "(16, 50)\n"
     ]
    }
   ],
   "source": [
    "#创建模型\n",
    "#生成50个值\n",
    "alphas_to_test = np.linspace(0.001,1)#默认50个值\n",
    "#创建模型，保存误差值\n",
    "model = linear_model.RidgeCV(alphas=alphas_to_test,store_cv_values=True)\n",
    "model.fit(x_data,y_data)\n",
    "\n",
    "#领系数\n",
    "print(model.alpha_)\n",
    "\n",
    "#loss值\n",
    "print(model.cv_values_.shape)"
   ]
  },
  {
   "cell_type": "code",
   "execution_count": 8,
   "metadata": {},
   "outputs": [
    {
     "data": {
      "text/plain": [
       "array([[1.34072103e+00, 1.27561414e+00, 1.23262714e+00, 1.20413381e+00,\n",
       "        1.18561728e+00, 1.17423737e+00, 1.16812114e+00, 1.16598468e+00,\n",
       "        1.16691902e+00, 1.17026299e+00, 1.17552433e+00, 1.18232917e+00,\n",
       "        1.19038855e+00, 1.19947569e+00, 1.20941021e+00, 1.22004686e+00,\n",
       "        1.23126748e+00, 1.24297495e+00, 1.25508881e+00, 1.26754186e+00,\n",
       "        1.28027755e+00, 1.29324804e+00, 1.30641258e+00, 1.31973631e+00,\n",
       "        1.33318924e+00, 1.34674546e+00, 1.36038253e+00, 1.37408090e+00,\n",
       "        1.38782353e+00, 1.40159548e+00, 1.41538367e+00, 1.42917656e+00,\n",
       "        1.44296401e+00, 1.45673705e+00, 1.47048777e+00, 1.48420916e+00,\n",
       "        1.49789500e+00, 1.51153980e+00, 1.52513868e+00, 1.53868732e+00,\n",
       "        1.55218188e+00, 1.56561897e+00, 1.57899559e+00, 1.59230908e+00,\n",
       "        1.60555710e+00, 1.61873759e+00, 1.63184874e+00, 1.64488896e+00,\n",
       "        1.65785690e+00, 1.67075134e+00],\n",
       "       [6.42617451e+00, 6.43602265e+00, 6.44595583e+00, 6.45587623e+00,\n",
       "        6.46572381e+00, 6.47546064e+00, 6.48506236e+00, 6.49451335e+00,\n",
       "        6.50380373e+00, 6.51292752e+00, 6.52188147e+00, 6.53066420e+00,\n",
       "        6.53927571e+00, 6.54771695e+00, 6.55598960e+00, 6.56409583e+00,\n",
       "        6.57203818e+00, 6.57981945e+00, 6.58744262e+00, 6.59491077e+00,\n",
       "        6.60222709e+00, 6.60939478e+00, 6.61641707e+00, 6.62329716e+00,\n",
       "        6.63003824e+00, 6.63664349e+00, 6.64311599e+00, 6.64945883e+00,\n",
       "        6.65567500e+00, 6.66176745e+00, 6.66773906e+00, 6.67359265e+00,\n",
       "        6.67933099e+00, 6.68495676e+00, 6.69047258e+00, 6.69588102e+00,\n",
       "        6.70118457e+00, 6.70638567e+00, 6.71148669e+00, 6.71648994e+00,\n",
       "        6.72139766e+00, 6.72621205e+00, 6.73093525e+00, 6.73556932e+00,\n",
       "        6.74011629e+00, 6.74457813e+00, 6.74895676e+00, 6.75325404e+00,\n",
       "        6.75747179e+00, 6.76161178e+00],\n",
       "       [2.63424528e-02, 2.64975705e-02, 2.64573576e-02, 2.62836446e-02,\n",
       "        2.60167901e-02, 2.56841392e-02, 2.53047883e-02, 2.48924071e-02,\n",
       "        2.44569812e-02, 2.40059279e-02, 2.35448326e-02, 2.30779475e-02,\n",
       "        2.26085385e-02, 2.21391299e-02, 2.16716816e-02, 2.12077190e-02,\n",
       "        2.07484292e-02, 2.02947338e-02, 1.98473445e-02, 1.94068057e-02,\n",
       "        1.89735280e-02, 1.85478139e-02, 1.81298791e-02, 1.77198686e-02,\n",
       "        1.73178698e-02, 1.69239236e-02, 1.65380329e-02, 1.61601695e-02,\n",
       "        1.57902803e-02, 1.54282915e-02, 1.50741132e-02, 1.47276422e-02,\n",
       "        1.43887647e-02, 1.40573589e-02, 1.37332965e-02, 1.34164445e-02,\n",
       "        1.31066665e-02, 1.28038236e-02, 1.25077757e-02, 1.22183816e-02,\n",
       "        1.19355004e-02, 1.16589916e-02, 1.13887156e-02, 1.11245339e-02,\n",
       "        1.08663100e-02, 1.06139087e-02, 1.03671972e-02, 1.01260448e-02,\n",
       "        9.89032312e-03, 9.65990602e-03],\n",
       "       [5.09292057e+00, 4.86310206e+00, 4.69338423e+00, 4.56127239e+00,\n",
       "        4.45430665e+00, 4.36502896e+00, 4.28870155e+00, 4.22216924e+00,\n",
       "        4.16324854e+00, 4.11037934e+00, 4.06241644e+00, 4.01849950e+00,\n",
       "        3.97796904e+00, 3.94031057e+00, 3.90511637e+00, 3.87205878e+00,\n",
       "        3.84087119e+00, 3.81133413e+00, 3.78326511e+00, 3.75651093e+00,\n",
       "        3.73094184e+00, 3.70644710e+00, 3.68293146e+00, 3.66031247e+00,\n",
       "        3.63851826e+00, 3.61748583e+00, 3.59715964e+00, 3.57749049e+00,\n",
       "        3.55843456e+00, 3.53995264e+00, 3.52200952e+00, 3.50457342e+00,\n",
       "        3.48761558e+00, 3.47110986e+00, 3.45503240e+00, 3.43936140e+00,\n",
       "        3.42407684e+00, 3.40916030e+00, 3.39459478e+00, 3.38036455e+00,\n",
       "        3.36645503e+00, 3.35285266e+00, 3.33954480e+00, 3.32651966e+00,\n",
       "        3.31376620e+00, 3.30127409e+00, 3.28903363e+00, 3.27703566e+00,\n",
       "        3.26527161e+00, 3.25373334e+00],\n",
       "       [1.40076634e+00, 7.49139539e-01, 4.48098476e-01, 2.86039503e-01,\n",
       "        1.89838239e-01, 1.28810841e-01, 8.82625193e-02, 6.04434418e-02,\n",
       "        4.09537200e-02, 2.71452168e-02, 1.73466394e-02, 1.04607763e-02,\n",
       "        5.74287908e-03, 2.67276457e-03, 8.77953025e-04, 8.58386956e-05,\n",
       "        9.30093415e-05, 7.45034031e-04, 1.92282876e-03, 3.53326288e-03,\n",
       "        5.50256316e-03, 7.77160197e-03, 1.02924784e-02, 1.30260019e-02,\n",
       "        1.59398153e-02, 1.90069783e-02, 2.22048858e-02, 2.55144337e-02,\n",
       "        2.89193692e-02, 3.24057797e-02, 3.59616880e-02, 3.95767285e-02,\n",
       "        4.32418864e-02, 4.69492866e-02, 5.06920209e-02, 5.44640058e-02,\n",
       "        5.82598654e-02, 6.20748340e-02, 6.59046736e-02, 6.97456063e-02,\n",
       "        7.35942551e-02, 7.74475957e-02, 8.13029136e-02, 8.51577681e-02,\n",
       "        8.90099619e-02, 9.28575135e-02, 9.66986341e-02, 1.00531708e-01,\n",
       "        1.04355273e-01, 1.08168007e-01],\n",
       "       [2.29604190e-01, 2.25806112e-01, 2.24271087e-01, 2.24256631e-01,\n",
       "        2.25304767e-01, 2.27117813e-01, 2.29493944e-01, 2.32291494e-01,\n",
       "        2.35408102e-01, 2.38767983e-01, 2.42313839e-01, 2.46001573e-01,\n",
       "        2.49796720e-01, 2.53671978e-01, 2.57605472e-01, 2.61579496e-01,\n",
       "        2.65579598e-01, 2.69593891e-01, 2.73612540e-01, 2.77627362e-01,\n",
       "        2.81631522e-01, 2.85619289e-01, 2.89585849e-01, 2.93527152e-01,\n",
       "        2.97439785e-01, 3.01320878e-01, 3.05168017e-01, 3.08979181e-01,\n",
       "        3.12752681e-01, 3.16487118e-01, 3.20181340e-01, 3.23834409e-01,\n",
       "        3.27445574e-01, 3.31014247e-01, 3.34539980e-01, 3.38022449e-01,\n",
       "        3.41461438e-01, 3.44856825e-01, 3.48208574e-01, 3.51516717e-01,\n",
       "        3.54781354e-01, 3.58002638e-01, 3.61180774e-01, 3.64316008e-01,\n",
       "        3.67408624e-01, 3.70458939e-01, 3.73467299e-01, 3.76434075e-01,\n",
       "        3.79359660e-01, 3.82244463e-01],\n",
       "       [2.66448392e+00, 2.41923707e+00, 2.23276437e+00, 2.08467265e+00,\n",
       "        1.96306940e+00, 1.86056131e+00, 1.77231340e+00, 1.69503092e+00,\n",
       "        1.62639061e+00, 1.56470636e+00, 1.50872378e+00, 1.45748947e+00,\n",
       "        1.41026503e+00, 1.36646896e+00, 1.32563649e+00, 1.28739113e+00,\n",
       "        1.25142424e+00, 1.21747997e+00, 1.18534414e+00, 1.15483577e+00,\n",
       "        1.12580063e+00, 1.09810631e+00, 1.07163824e+00, 1.04629667e+00,\n",
       "        1.02199420e+00, 9.98653782e-01, 9.76207161e-01, 9.54593543e-01,\n",
       "        9.33758528e-01, 9.13653221e-01, 8.94233493e-01, 8.75459363e-01,\n",
       "        8.57294470e-01, 8.39705635e-01, 8.22662486e-01, 8.06137131e-01,\n",
       "        7.90103885e-01, 7.74539032e-01, 7.59420616e-01, 7.44728262e-01,\n",
       "        7.30443021e-01, 7.16547230e-01, 7.03024392e-01, 6.89859071e-01,\n",
       "        6.77036794e-01, 6.64543973e-01, 6.52367823e-01, 6.40496303e-01,\n",
       "        6.28918050e-01, 6.17622332e-01],\n",
       "       [6.00023424e-02, 4.83054882e-02, 3.93117444e-02, 3.21721776e-02,\n",
       "        2.63734818e-02, 2.15867322e-02, 1.75908895e-02, 1.42313745e-02,\n",
       "        1.13963447e-02, 9.00245969e-03, 6.98599493e-03, 5.29710257e-03,\n",
       "        3.89599301e-03, 2.75032728e-03, 1.83339450e-03, 1.12281132e-03,\n",
       "        5.99576332e-04, 2.47370615e-04, 5.20323521e-05, 1.15640132e-06,\n",
       "        8.37850540e-05, 2.90166253e-04, 6.11562365e-04, 1.04009729e-03,\n",
       "        1.56863301e-03, 2.19066889e-03, 2.90025892e-03, 3.69194296e-03,\n",
       "        4.56068931e-03, 5.50184627e-03, 6.51110109e-03, 7.58444479e-03,\n",
       "        8.71814202e-03, 9.90870489e-03, 1.11528703e-02, 1.24475798e-02,\n",
       "        1.37899626e-02, 1.51773196e-02, 1.66071098e-02, 1.80769383e-02,\n",
       "        1.95845449e-02, 2.11277947e-02, 2.27046691e-02, 2.43132574e-02,\n",
       "        2.59517500e-02, 2.76184317e-02, 2.93116750e-02, 3.10299355e-02,\n",
       "        3.27717461e-02, 3.45357127e-02],\n",
       "       [5.49715195e+00, 5.50938402e+00, 5.51703135e+00, 5.52146415e+00,\n",
       "        5.52356013e+00, 5.52390765e+00, 5.52291590e+00, 5.52087833e+00,\n",
       "        5.51801090e+00, 5.51447609e+00, 5.51039851e+00, 5.50587535e+00,\n",
       "        5.50098350e+00, 5.49578463e+00, 5.49032877e+00, 5.48465690e+00,\n",
       "        5.47880296e+00, 5.47279527e+00, 5.46665763e+00, 5.46041021e+00,\n",
       "        5.45407020e+00, 5.44765236e+00, 5.44116937e+00, 5.43463227e+00,\n",
       "        5.42805062e+00, 5.42143281e+00, 5.41478618e+00, 5.40811720e+00,\n",
       "        5.40143158e+00, 5.39473439e+00, 5.38803013e+00, 5.38132278e+00,\n",
       "        5.37461594e+00, 5.36791280e+00, 5.36121621e+00, 5.35452875e+00,\n",
       "        5.34785272e+00, 5.34119021e+00, 5.33454308e+00, 5.32791302e+00,\n",
       "        5.32130156e+00, 5.31471005e+00, 5.30813976e+00, 5.30159179e+00,\n",
       "        5.29506715e+00, 5.28856677e+00, 5.28209145e+00, 5.27564195e+00,\n",
       "        5.26921892e+00, 5.26282298e+00],\n",
       "       [1.21568501e+00, 1.12714712e+00, 1.06247066e+00, 1.01335294e+00,\n",
       "        9.74894568e-01, 9.44026488e-01, 9.18732924e-01, 8.97637955e-01,\n",
       "        8.79772046e-01, 8.64433530e-01, 8.51102943e-01, 8.39388146e-01,\n",
       "        8.28988077e-01, 8.19668170e-01, 8.11243286e-01, 8.03565618e-01,\n",
       "        7.96515964e-01, 7.89997312e-01, 7.83930073e-01, 7.78248475e-01,\n",
       "        7.72897805e-01, 7.67832285e-01, 7.63013406e-01, 7.58408617e-01,\n",
       "        7.53990286e-01, 7.49734860e-01, 7.45622195e-01, 7.41635003e-01,\n",
       "        7.37758406e-01, 7.33979567e-01, 7.30287380e-01, 7.26672220e-01,\n",
       "        7.23125728e-01, 7.19640634e-01, 7.16210602e-01, 7.12830108e-01,\n",
       "        7.09494327e-01, 7.06199042e-01, 7.02940566e-01, 6.99715672e-01,\n",
       "        6.96521535e-01, 6.93355683e-01, 6.90215951e-01, 6.87100443e-01,\n",
       "        6.84007504e-01, 6.80935682e-01, 6.77883712e-01, 6.74850489e-01,\n",
       "        6.71835051e-01, 6.68836559e-01],\n",
       "       [2.13983721e+00, 2.07182770e+00, 2.01934743e+00, 1.97753738e+00,\n",
       "        1.94338402e+00, 1.91491917e+00, 1.89080276e+00, 1.87009051e+00,\n",
       "        1.85209759e+00, 1.83631505e+00, 1.82235651e+00, 1.80992321e+00,\n",
       "        1.79878035e+00, 1.78874072e+00, 1.77965310e+00, 1.77139394e+00,\n",
       "        1.76386120e+00, 1.75696980e+00, 1.75064821e+00, 1.74483576e+00,\n",
       "        1.73948064e+00, 1.73453828e+00, 1.72997012e+00, 1.72574258e+00,\n",
       "        1.72182626e+00, 1.71819530e+00, 1.71482683e+00, 1.71170053e+00,\n",
       "        1.70879828e+00, 1.70610386e+00, 1.70360269e+00, 1.70128159e+00,\n",
       "        1.69912868e+00, 1.69713312e+00, 1.69528507e+00, 1.69357555e+00,\n",
       "        1.69199631e+00, 1.69053979e+00, 1.68919903e+00, 1.68796762e+00,\n",
       "        1.68683963e+00, 1.68580955e+00, 1.68487228e+00, 1.68402309e+00,\n",
       "        1.68325754e+00, 1.68257153e+00, 1.68196118e+00, 1.68142290e+00,\n",
       "        1.68095331e+00, 1.68054922e+00],\n",
       "       [3.76926952e+00, 3.79599612e+00, 3.82211982e+00, 3.84773004e+00,\n",
       "        3.87288636e+00, 3.89763072e+00, 3.92199411e+00, 3.94600031e+00,\n",
       "        3.96966825e+00, 3.99301346e+00, 4.01604903e+00, 4.03878621e+00,\n",
       "        4.06123488e+00, 4.08340387e+00, 4.10530114e+00, 4.12693399e+00,\n",
       "        4.14830915e+00, 4.16943289e+00, 4.19031110e+00, 4.21094931e+00,\n",
       "        4.23135277e+00, 4.25152648e+00, 4.27147520e+00, 4.29120349e+00,\n",
       "        4.31071574e+00, 4.33001615e+00, 4.34910877e+00, 4.36799753e+00,\n",
       "        4.38668621e+00, 4.40517846e+00, 4.42347785e+00, 4.44158779e+00,\n",
       "        4.45951164e+00, 4.47725262e+00, 4.49481391e+00, 4.51219855e+00,\n",
       "        4.52940953e+00, 4.54644975e+00, 4.56332204e+00, 4.58002916e+00,\n",
       "        4.59657379e+00, 4.61295854e+00, 4.62918599e+00, 4.64525862e+00,\n",
       "        4.66117887e+00, 4.67694911e+00, 4.69257166e+00, 4.70804881e+00,\n",
       "        4.72338276e+00, 4.73857569e+00],\n",
       "       [3.97079215e-01, 3.82708251e-01, 3.67144220e-01, 3.51031863e-01,\n",
       "        3.34770588e-01, 3.18614760e-01, 3.02728974e-01, 2.87220211e-01,\n",
       "        2.72157380e-01, 2.57583639e-01, 2.43524417e-01, 2.29992760e-01,\n",
       "        2.16992993e-01, 2.04523258e-01, 1.92577319e-01, 1.81145852e-01,\n",
       "        1.70217381e-01, 1.59778962e-01, 1.49816693e-01, 1.40316086e-01,\n",
       "        1.31262349e-01, 1.22640589e-01, 1.14435973e-01, 1.06633837e-01,\n",
       "        9.92197747e-02, 9.21796937e-02, 8.54998612e-02, 7.91669330e-02,\n",
       "        7.31679717e-02, 6.74904583e-02, 6.21222962e-02, 5.70518117e-02,\n",
       "        5.22677499e-02, 4.77592688e-02, 4.35159303e-02, 3.95276910e-02,\n",
       "        3.57848911e-02, 3.22782424e-02, 2.89988168e-02, 2.59380336e-02,\n",
       "        2.30876475e-02, 2.04397357e-02, 1.79866861e-02, 1.57211852e-02,\n",
       "        1.36362064e-02, 1.17249984e-02, 9.98107413e-03, 8.39820013e-03,\n",
       "        6.97038605e-03, 5.69187463e-03],\n",
       "       [1.23999628e-01, 1.18099843e-01, 1.13981879e-01, 1.11065142e-01,\n",
       "        1.08994889e-01, 1.07542515e-01, 1.06554234e-01, 1.05922873e-01,\n",
       "        1.05571500e-01, 1.05443481e-01, 1.05496215e-01, 1.05697048e-01,\n",
       "        1.06020534e-01, 1.06446549e-01, 1.06958977e-01, 1.07544752e-01,\n",
       "        1.08193176e-01, 1.08895402e-01, 1.09644053e-01, 1.10432927e-01,\n",
       "        1.11256773e-01, 1.12111116e-01, 1.12992119e-01, 1.13896472e-01,\n",
       "        1.14821306e-01, 1.15764123e-01, 1.16722734e-01, 1.17695219e-01,\n",
       "        1.18679882e-01, 1.19675222e-01, 1.20679905e-01, 1.21692744e-01,\n",
       "        1.22712675e-01, 1.23738746e-01, 1.24770101e-01, 1.25805969e-01,\n",
       "        1.26845653e-01, 1.27888522e-01, 1.28934006e-01, 1.29981584e-01,\n",
       "        1.31030783e-01, 1.32081174e-01, 1.33132361e-01, 1.34183986e-01,\n",
       "        1.35235718e-01, 1.36287255e-01, 1.37338321e-01, 1.38388660e-01,\n",
       "        1.39438038e-01, 1.40486240e-01],\n",
       "       [1.64137747e-01, 1.86900790e-01, 2.02484478e-01, 2.13088393e-01,\n",
       "        2.20149977e-01, 2.24632182e-01, 2.27198401e-01, 2.28317864e-01,\n",
       "        2.28330380e-01, 2.27487180e-01, 2.25977399e-01, 2.23945686e-01,\n",
       "        2.21504200e-01, 2.18740960e-01, 2.15725771e-01, 2.12514497e-01,\n",
       "        2.09152211e-01, 2.05675523e-01, 2.02114354e-01, 1.98493275e-01,\n",
       "        1.94832557e-01, 1.91148973e-01, 1.87456446e-01, 1.83766551e-01,\n",
       "        1.80088922e-01, 1.76431583e-01, 1.72801211e-01, 1.69203354e-01,\n",
       "        1.65642611e-01, 1.62122776e-01, 1.58646966e-01, 1.55217720e-01,\n",
       "        1.51837083e-01, 1.48506682e-01, 1.45227786e-01, 1.42001355e-01,\n",
       "        1.38828087e-01, 1.35708455e-01, 1.32642736e-01, 1.29631044e-01,\n",
       "        1.26673349e-01, 1.23769499e-01, 1.20919237e-01, 1.18122219e-01,\n",
       "        1.15378024e-01, 1.12686166e-01, 1.10046104e-01, 1.07457252e-01,\n",
       "        1.04918988e-01, 1.02430654e-01],\n",
       "       [4.80718631e+00, 4.90925230e+00, 4.99758296e+00, 5.07606059e+00,\n",
       "        5.14717862e+00, 5.21261323e+00, 5.27353413e+00, 5.33078352e+00,\n",
       "        5.38498415e+00, 5.43660720e+00, 5.48601644e+00, 5.53349774e+00,\n",
       "        5.57927938e+00, 5.62354625e+00, 5.66645006e+00, 5.70811681e+00,\n",
       "        5.74865225e+00, 5.78814608e+00, 5.82667503e+00, 5.86430535e+00,\n",
       "        5.90109471e+00, 5.93709364e+00, 5.97234676e+00, 6.00689371e+00,\n",
       "        6.04076995e+00, 6.07400735e+00, 6.10663471e+00, 6.13867821e+00,\n",
       "        6.17016173e+00, 6.20110718e+00, 6.23153470e+00, 6.26146294e+00,\n",
       "        6.29090915e+00, 6.31988941e+00, 6.34841872e+00, 6.37651113e+00,\n",
       "        6.40417980e+00, 6.43143716e+00, 6.45829490e+00, 6.48476408e+00,\n",
       "        6.51085519e+00, 6.53657818e+00, 6.56194250e+00, 6.58695719e+00,\n",
       "        6.61163084e+00, 6.63597167e+00, 6.65998755e+00, 6.68368602e+00,\n",
       "        6.70707432e+00, 6.73015939e+00]])"
      ]
     },
     "execution_count": 8,
     "metadata": {},
     "output_type": "execute_result"
    }
   ],
   "source": [
    "model.cv_values_"
   ]
  },
  {
   "cell_type": "code",
   "execution_count": 9,
   "metadata": {},
   "outputs": [
    {
     "data": {
      "image/png": "[encoded data removed]",
      "text/plain": [
       "<Figure size 432x288 with 1 Axes>"
      ]
     },
     "metadata": {
      "needs_background": "light"
     },
     "output_type": "display_data"
    }
   ],
   "source": [
    "#画图\n",
    "#岭系数跟loss值的关系\n",
    "plt.plot(alphas_to_test,model.cv_values_.mean(axis = 0))\n",
    "\n",
    "#选取的岭系数值的位置\n",
    "plt.plot(model.alpha_,min(model.cv_values_.mean(axis = 0)),'ro')\n",
    "plt.show()"
   ]
  },
  {
   "cell_type": "code",
   "execution_count": 10,
   "metadata": {},
   "outputs": [
    {
     "data": {
      "text/plain": [
       "array([88.11216213])"
      ]
     },
     "execution_count": 10,
     "metadata": {},
     "output_type": "execute_result"
    }
   ],
   "source": [
    "model.predict(x_data[2,np.newaxis])"
   ]
  },
  {
   "cell_type": "code",
   "execution_count": null,
   "metadata": {},
   "outputs": [],
   "source": []
  }
 ],
 "metadata": {
  "kernelspec": {
   "display_name": "Python 3",
   "language": "python",
   "name": "python3"
  },
  "language_info": {
   "codemirror_mode": {
    "name": "ipython",
    "version": 3
   },
   "file_extension": ".py",
   "mimetype": "text/x-python",
   "name": "python",
   "nbconvert_exporter": "python",
   "pygments_lexer": "ipython3",
   "version": "3.7.0"
  }
 },
 "nbformat": 4,
 "nbformat_minor": 2
}
