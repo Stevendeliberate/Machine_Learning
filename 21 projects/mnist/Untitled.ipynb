{
 "cells": [
  {
   "cell_type": "code",
   "execution_count": 2,
   "metadata": {},
   "outputs": [],
   "source": [
    "import tensorflow as tf\n",
    "mnist = tf.keras.datasets.mnist\n",
    "#数据预处理\n",
    "(x_train , y_train),(x_test , y_test) = mnist.load_data()#划分训练集与测试集\n",
    "\n",
    "x_train = x_train.reshape(-1,28,28,1)/255.0  #diyige \n",
    "x_test = x_test.reshape(-1,28,28,1)/255.0\n",
    "\n",
    "y_train = tf.keras.utils.to_categorical(y_train , num_classes=10)\n",
    "y_test = tf.keras.utils.to_categorical(y_test , num_classes=10)"
   ]
  },
  {
   "cell_type": "code",
   "execution_count": 3,
   "metadata": {},
   "outputs": [
    {
     "name": "stdout",
     "output_type": "stream",
     "text": [
      "10000/10000 [==============================] - 6s 586us/sample - loss: 0.0510 - accuracy: 0.9905\n",
      "0.05098387565151192\n",
      "0.9905\n"
     ]
    }
   ],
   "source": [
    "#载入模型\n",
    "model = tf.keras.models.load_model('conv2_1.h5')\n",
    "\n",
    "#评估模型\n",
    "loss , accuracy = model.evaluate(x_test , y_test)\n",
    "\n",
    "print(loss)\n",
    "print(accuracy)"
   ]
  },
  {
   "cell_type": "code",
   "execution_count": null,
   "metadata": {},
   "outputs": [],
   "source": []
  }
 ],
 "metadata": {
  "kernelspec": {
   "display_name": "Python 3",
   "language": "python",
   "name": "python3"
  },
  "language_info": {
   "codemirror_mode": {
    "name": "ipython",
    "version": 3
   },
   "file_extension": ".py",
   "mimetype": "text/x-python",
   "name": "python",
   "nbconvert_exporter": "python",
   "pygments_lexer": "ipython3",
   "version": "3.7.4"
  }
 },
 "nbformat": 4,
 "nbformat_minor": 2
}
