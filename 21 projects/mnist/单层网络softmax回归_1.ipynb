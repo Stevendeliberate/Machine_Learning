{
 "cells": [
  {
   "cell_type": "code",
   "execution_count": 2,
   "metadata": {},
   "outputs": [],
   "source": [
    "import tensorflow as tf"
   ]
  },
  {
   "cell_type": "code",
   "execution_count": 3,
   "metadata": {},
   "outputs": [],
   "source": [
    "#数据加载\n",
    "mnist = tf.keras.datasets.mnist"
   ]
  },
  {
   "cell_type": "code",
   "execution_count": 4,
   "metadata": {},
   "outputs": [],
   "source": [
    "#数据预处理\n",
    "(x_train , y_train),(x_test , y_test) = mnist.load_data()#划分训练集与测试集\n",
    "\n",
    "x_train , x_test = x_train/255.0 , x_test/255.0#像素归一化\n",
    "\n",
    "y_train = tf.keras.utils.to_categorical(y_train , num_classes=10)\n",
    "y_test = tf.keras.utils.to_categorical(y_test , num_classes=10)\n"
   ]
  },
  {
   "cell_type": "code",
   "execution_count": 7,
   "metadata": {},
   "outputs": [],
   "source": [
    "#建立模型\n",
    "model = tf.keras.Sequential()#建立一个顺序模型"
   ]
  },
  {
   "cell_type": "code",
   "execution_count": 9,
   "metadata": {},
   "outputs": [],
   "source": [
    "#给模型添加层\n",
    "model.add(tf.keras.layers.Flatten(input_shape = (28,28)))#添加一个扁平化层，将（28*28）的图像变成784的数列\n",
    "model.add(tf.keras.layers.Dense(units = 10 , activation = 'softmax'))#增加一个全连接层。输出为10个 激活函数为softmax"
   ]
  },
  {
   "cell_type": "code",
   "execution_count": 11,
   "metadata": {},
   "outputs": [],
   "source": [
    "#定义模型优化器\n",
    "model.compile(loss='categorical_crossentropy'\n",
    "              ,optimizer=tf.keras.optimizers.SGD(lr = 0.01)\n",
    "             ,metrics=['accuracy'])#模型优化器 ， 损失函数为交叉熵 ，优化函数为随机梯度下降函数 , 正确率计算方法为‘accuracy’"
   ]
  },
  {
   "cell_type": "code",
   "execution_count": 12,
   "metadata": {},
   "outputs": [
    {
     "name": "stdout",
     "output_type": "stream",
     "text": [
      "Train on 60000 samples, validate on 10000 samples\n",
      "Epoch 1/10\n",
      "60000/60000 [==============================] - 4s 67us/sample - loss: 0.7725 - accuracy: 0.8182 - val_loss: 0.4813 - val_accuracy: 0.8815\n",
      "Epoch 2/10\n",
      "60000/60000 [==============================] - 2s 39us/sample - loss: 0.4563 - accuracy: 0.8805 - val_loss: 0.4005 - val_accuracy: 0.8952\n",
      "Epoch 3/10\n",
      "60000/60000 [==============================] - 2s 39us/sample - loss: 0.4032 - accuracy: 0.8907 - val_loss: 0.3668 - val_accuracy: 0.9027\n",
      "Epoch 4/10\n",
      "60000/60000 [==============================] - 2s 39us/sample - loss: 0.3765 - accuracy: 0.8967 - val_loss: 0.3483 - val_accuracy: 0.9064\n",
      "Epoch 5/10\n",
      "60000/60000 [==============================] - 2s 40us/sample - loss: 0.3599 - accuracy: 0.9005 - val_loss: 0.3354 - val_accuracy: 0.9092\n",
      "Epoch 6/10\n",
      "60000/60000 [==============================] - 2s 34us/sample - loss: 0.3480 - accuracy: 0.9026 - val_loss: 0.3264 - val_accuracy: 0.9104\n",
      "Epoch 7/10\n",
      "60000/60000 [==============================] - 2s 29us/sample - loss: 0.3389 - accuracy: 0.9051 - val_loss: 0.3204 - val_accuracy: 0.9120\n",
      "Epoch 8/10\n",
      "60000/60000 [==============================] - 2s 28us/sample - loss: 0.3318 - accuracy: 0.9074 - val_loss: 0.3140 - val_accuracy: 0.9139\n",
      "Epoch 9/10\n",
      "60000/60000 [==============================] - 2s 28us/sample - loss: 0.3259 - accuracy: 0.9084 - val_loss: 0.3099 - val_accuracy: 0.9143\n",
      "Epoch 10/10\n",
      "60000/60000 [==============================] - 2s 28us/sample - loss: 0.3210 - accuracy: 0.9101 - val_loss: 0.3068 - val_accuracy: 0.9154\n"
     ]
    },
    {
     "data": {
      "text/plain": [
       "<tensorflow.python.keras.callbacks.History at 0x1de77e2d8c8>"
      ]
     },
     "execution_count": 12,
     "metadata": {},
     "output_type": "execute_result"
    }
   ],
   "source": [
    "#进行训练\n",
    "model.fit(x_train , y_train , epochs=10 , validation_data=(x_test , y_test))#训练次数为十次 并同时用测试集进行测试"
   ]
  },
  {
   "cell_type": "code",
   "execution_count": 14,
   "metadata": {},
   "outputs": [],
   "source": [
    "#进行预测\n",
    "y_pred = model.predict(x_test)"
   ]
  },
  {
   "cell_type": "code",
   "execution_count": 15,
   "metadata": {},
   "outputs": [
    {
     "name": "stdout",
     "output_type": "stream",
     "text": [
      "10000/10000 [==============================] - 0s 19us/sample - loss: 0.3068 - accuracy: 0.9154\n",
      "0.3068111397981644\n",
      "0.9154\n"
     ]
    }
   ],
   "source": [
    "#计算正确率1\n",
    "loss , metrics = model.evaluate(x_test , y_test)\n",
    "print(loss)\n",
    "print(metrics)"
   ]
  },
  {
   "cell_type": "code",
   "execution_count": 16,
   "metadata": {},
   "outputs": [
    {
     "name": "stdout",
     "output_type": "stream",
     "text": [
      "0.9154\n"
     ]
    }
   ],
   "source": [
    "#计算正确率2\n",
    "cnt = 0\n",
    "for i in range(y_pred.shape[0]):\n",
    "    a = y_test[i,:].argmax()\n",
    "    b = y_pred[i,:].argmax()\n",
    "    if a == b:\n",
    "        cnt+=1\n",
    "print(cnt/y_pred.shape[0])"
   ]
  },
  {
   "cell_type": "markdown",
   "metadata": {},
   "source": [
    "运行结果的准确率仅有91.54%，因为softmax单层网络是一个很简单的模型，预测准确率并不高。"
   ]
  },
  {
   "cell_type": "code",
   "execution_count": null,
   "metadata": {},
   "outputs": [],
   "source": []
  }
 ],
 "metadata": {
  "kernelspec": {
   "display_name": "Python 3",
   "language": "python",
   "name": "python3"
  },
  "language_info": {
   "codemirror_mode": {
    "name": "ipython",
    "version": 3
   },
   "file_extension": ".py",
   "mimetype": "text/x-python",
   "name": "python",
   "nbconvert_exporter": "python",
   "pygments_lexer": "ipython3",
   "version": "3.7.4"
  }
 },
 "nbformat": 4,
 "nbformat_minor": 2
}
