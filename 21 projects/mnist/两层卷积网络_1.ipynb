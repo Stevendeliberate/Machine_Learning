{
 "cells": [
  {
   "cell_type": "code",
   "execution_count": 1,
   "metadata": {},
   "outputs": [],
   "source": [
    "import tensorflow as tf"
   ]
  },
  {
   "cell_type": "code",
   "execution_count": 2,
   "metadata": {},
   "outputs": [],
   "source": [
    "#数据加载\n",
    "mnist = tf.keras.datasets.mnist"
   ]
  },
  {
   "cell_type": "code",
   "execution_count": 8,
   "metadata": {},
   "outputs": [],
   "source": [
    "#数据预处理\n",
    "(x_train , y_train),(x_test , y_test) = mnist.load_data()#划分训练集与测试集\n",
    "\n",
    "x_train = x_train.reshape(-1,28,28,1)/255.0  #diyige \n",
    "x_test = x_test.reshape(-1,28,28,1)/255.0\n",
    "\n",
    "y_train = tf.keras.utils.to_categorical(y_train , num_classes=10)\n",
    "y_test = tf.keras.utils.to_categorical(y_test , num_classes=10)\n"
   ]
  },
  {
   "cell_type": "code",
   "execution_count": 28,
   "metadata": {},
   "outputs": [],
   "source": [
    "#建立模型\n",
    "model = tf.keras.Sequential()#建立一个顺序模型"
   ]
  },
  {
   "cell_type": "code",
   "execution_count": 29,
   "metadata": {},
   "outputs": [],
   "source": [
    "#给模型添加层\n",
    "'''\n",
    "input_shape 输入平面\n",
    "filiters 卷积核/滤波器个数\n",
    "kernel_size 卷积窗口大小\n",
    "strides 步长\n",
    "padding padding方式 same/valid\n",
    "activation 激活函数\n",
    "'''\n",
    "model.add(tf.keras.layers.Convolution2D(input_shape = (28,28,1)\n",
    "                                         ,filters = 32\n",
    "                                         ,kernel_size = 5\n",
    "                                         ,strides = (1,1)\n",
    "                                         ,padding = 'same'\n",
    "                                         ,activation = 'relu'\n",
    "                                       ))#添加第一个卷积层\n",
    "model.add(tf.keras.layers.MaxPool2D(pool_size = 2\n",
    "                                   ,strides = 1\n",
    "                                   ,padding = 'same'))#添加第一个池化层\n",
    "model.add(tf.keras.layers.Convolution2D(filters = 64,\n",
    "                                       kernel_size = 5\n",
    "                                       ,strides =1\n",
    "                                       ,padding = 'same'\n",
    "                                       ,activation = 'relu'))#添加第二个卷积层\n",
    "model.add(tf.keras.layers.MaxPool2D(pool_size = 2\n",
    "                                   ,strides = 2\n",
    "                                   ,padding = 'same'))#添加第二个池化层\n",
    "model.add(tf.keras.layers.Flatten())#把第二个池化层的输出拉直 ，准备链接全链接层\n",
    "model.add(tf.keras.layers.Dense(1024,activation = 'relu'))#添加第一个全连接层 输出为1024个神经元\n",
    "model.add(tf.keras.layers.Dropout(0.5))\n",
    "model.add(tf.keras.layers.Dense(10,activation = 'softmax'))#添加第二个全连接层 输出为10个神经元 即为最终输出。"
   ]
  },
  {
   "cell_type": "code",
   "execution_count": 30,
   "metadata": {},
   "outputs": [],
   "source": [
    "model.compile(optimizer= tf.keras.optimizers.Adam(0.001),loss = 'categorical_crossentropy',metrics=['accuracy'] )#定义优化器"
   ]
  },
  {
   "cell_type": "code",
   "execution_count": 31,
   "metadata": {},
   "outputs": [
    {
     "name": "stdout",
     "output_type": "stream",
     "text": [
      "Train on 60000 samples, validate on 10000 samples\n",
      "Epoch 1/10\n",
      "60000/60000 [==============================] - 320s 5ms/sample - loss: 0.1080 - accuracy: 0.9665 - val_loss: 0.0407 - val_accuracy: 0.9866\n",
      "Epoch 2/10\n",
      "60000/60000 [==============================] - 320s 5ms/sample - loss: 0.0430 - accuracy: 0.9868 - val_loss: 0.0262 - val_accuracy: 0.9924\n",
      "Epoch 3/10\n",
      "60000/60000 [==============================] - 316s 5ms/sample - loss: 0.0316 - accuracy: 0.9903 - val_loss: 0.0317 - val_accuracy: 0.9909\n",
      "Epoch 4/10\n",
      "60000/60000 [==============================] - 312s 5ms/sample - loss: 0.0230 - accuracy: 0.9928 - val_loss: 0.0359 - val_accuracy: 0.9891\n",
      "Epoch 5/10\n",
      "60000/60000 [==============================] - 317s 5ms/sample - loss: 0.0207 - accuracy: 0.9940 - val_loss: 0.0305 - val_accuracy: 0.9912\n",
      "Epoch 6/10\n",
      "60000/60000 [==============================] - 317s 5ms/sample - loss: 0.0165 - accuracy: 0.9948 - val_loss: 0.0436 - val_accuracy: 0.9898\n",
      "Epoch 7/10\n",
      "60000/60000 [==============================] - 336s 6ms/sample - loss: 0.0137 - accuracy: 0.9957 - val_loss: 0.0355 - val_accuracy: 0.9912\n",
      "Epoch 8/10\n",
      "60000/60000 [==============================] - 336s 6ms/sample - loss: 0.0139 - accuracy: 0.9962 - val_loss: 0.0462 - val_accuracy: 0.9901\n",
      "Epoch 9/10\n",
      "60000/60000 [==============================] - 337s 6ms/sample - loss: 0.0102 - accuracy: 0.9969 - val_loss: 0.0402 - val_accuracy: 0.9916\n",
      "Epoch 10/10\n",
      "60000/60000 [==============================] - 337s 6ms/sample - loss: 0.0124 - accuracy: 0.9965 - val_loss: 0.0510 - val_accuracy: 0.9905\n"
     ]
    },
    {
     "data": {
      "text/plain": [
       "<tensorflow.python.keras.callbacks.History at 0x2022dd903c8>"
      ]
     },
     "execution_count": 31,
     "metadata": {},
     "output_type": "execute_result"
    }
   ],
   "source": [
    "model.fit(x_train , y_train , epochs=10 , validation_data=(x_test , y_test)) "
   ]
  },
  {
   "cell_type": "code",
   "execution_count": 33,
   "metadata": {},
   "outputs": [
    {
     "name": "stdout",
     "output_type": "stream",
     "text": [
      "10000/10000 [==============================] - 6s 568us/sample - loss: 0.0510 - accuracy: 0.9905\n"
     ]
    }
   ],
   "source": [
    "loss , metrics = model.evaluate(x_test , y_test)"
   ]
  },
  {
   "cell_type": "code",
   "execution_count": 34,
   "metadata": {},
   "outputs": [],
   "source": [
    "y_pred = model.predict(x_test)"
   ]
  },
  {
   "cell_type": "code",
   "execution_count": 35,
   "metadata": {},
   "outputs": [],
   "source": [
    "model.save('conv2_1.h5')"
   ]
  },
  {
   "cell_type": "code",
   "execution_count": null,
   "metadata": {},
   "outputs": [],
   "source": []
  }
 ],
 "metadata": {
  "kernelspec": {
   "display_name": "Python 3",
   "language": "python",
   "name": "python3"
  },
  "language_info": {
   "codemirror_mode": {
    "name": "ipython",
    "version": 3
   },
   "file_extension": ".py",
   "mimetype": "text/x-python",
   "name": "python",
   "nbconvert_exporter": "python",
   "pygments_lexer": "ipython3",
   "version": "3.7.4"
  }
 },
 "nbformat": 4,
 "nbformat_minor": 2
}
