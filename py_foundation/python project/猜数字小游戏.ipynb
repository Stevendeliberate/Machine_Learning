{
 "cells": [
  {
   "cell_type": "code",
   "execution_count": 1,
   "metadata": {},
   "outputs": [],
   "source": [
    "import random"
   ]
  },
  {
   "cell_type": "code",
   "execution_count": 2,
   "metadata": {},
   "outputs": [
    {
     "name": "stdout",
     "output_type": "stream",
     "text": [
      "Game start\n",
      "Please enter an integer from 1 to 100:50\n",
      "step 1\n",
      "50 is high\n",
      "Please enter an integer from 1 to 100:25\n",
      "step 2\n",
      "25 is high\n",
      "Please enter an integer from 1 to 100:12\n",
      "step 3\n",
      "12 is high\n",
      "Please enter an integer from 1 to 100:6\n",
      "step 4\n",
      "6 is high\n",
      "Please enter an integer from 1 to 100:3\n",
      "step 5\n",
      "you win!\n",
      "Game over\n"
     ]
    }
   ],
   "source": [
    "n = random.randint(1,100) #随机生成一个1-100的整数\n",
    "step = 0\n",
    "\n",
    "print('Game start')\n",
    "guess =int(input('Please enter an integer from 1 to 100:'))\n",
    "\n",
    "while True:\n",
    "    step+=1\n",
    "    print('step',step)\n",
    "    if guess < n:\n",
    "        print(guess,'is low')\n",
    "    elif guess > n:\n",
    "        print(guess,'is high')\n",
    "    else:\n",
    "        print('you win!')\n",
    "        break\n",
    "    guess =int(input('Please enter an integer from 1 to 100:'))\n",
    "\n",
    "print('Game over')"
   ]
  },
  {
   "cell_type": "code",
   "execution_count": 4,
   "metadata": {},
   "outputs": [
    {
     "name": "stdout",
     "output_type": "stream",
     "text": [
      "game start\n",
      "Please enter an integer from 1 to 100:50\n",
      "step 1\n",
      "50 is high\n",
      "Please enter an integer from 1 to 100:25\n",
      "step 2\n",
      "25 is high\n",
      "Please enter an integer from 1 to 100:12\n",
      "step 3\n",
      "12 is low\n",
      "Please enter an integer from 1 to 100:18\n",
      "step 4\n",
      "18 is low\n",
      "Please enter an integer from 1 to 100:22\n",
      "step 5\n",
      "22 is low\n",
      "Please enter an integer from 1 to 100:24\n",
      "step 6\n",
      "you win!\n",
      "Game over\n"
     ]
    }
   ],
   "source": [
    "n = random.randint(1,100) #随机生成一个1-100的整数\n",
    "step = 0#游戏的步骤\n",
    "print('game start')\n",
    "\n",
    "def get_number():\n",
    "    guess = input('Please enter an integer from 1 to 100:')\n",
    "    while True:\n",
    "        if guess.isdigit():\n",
    "            guess = int(guess)\n",
    "            return guess\n",
    "        else:\n",
    "            guess = input('Please enter an integer from 1 to 100:')\n",
    "\n",
    "guess = get_number()\n",
    "\n",
    "while True:\n",
    "    step+=1\n",
    "    print('step',step)\n",
    "    \n",
    "    if guess == 0:\n",
    "        print('quit')\n",
    "        break\n",
    "    \n",
    "    if guess < n:\n",
    "        print(guess,'is low')\n",
    "    elif guess > n:\n",
    "        print(guess,'is high')\n",
    "    else:\n",
    "        print('you win!')\n",
    "        break\n",
    "    guess = get_number()\n",
    "\n",
    "print('Game over')"
   ]
  },
  {
   "cell_type": "code",
   "execution_count": 6,
   "metadata": {},
   "outputs": [
    {
     "name": "stdout",
     "output_type": "stream",
     "text": [
      "game start\n",
      "Please enter an integer from 1 to 100:50\n",
      "step 1\n",
      "50 is low\n",
      "you can try 51 to 100\n",
      "Please enter an integer from 1 to 100:75\n",
      "step 2\n",
      "75 is high\n",
      "you can try 51 to 76\n",
      "Please enter an integer from 1 to 100:63\n",
      "step 3\n",
      "63 is low\n",
      "you can try 64 to 76\n",
      "Please enter an integer from 1 to 100:70\n",
      "step 4\n",
      "70 is high\n",
      "you can try 64 to 71\n",
      "Please enter an integer from 1 to 100:68\n",
      "step 5\n",
      "68 is high\n",
      "you can try 64 to 69\n",
      "Please enter an integer from 1 to 100:65\n",
      "step 6\n",
      "65 is high\n",
      "you can try 64 to 66\n",
      "Please enter an integer from 1 to 100:66\n",
      "step 7\n",
      "66 is high\n",
      "you can try 64 to 67\n",
      "Please enter an integer from 1 to 100:64\n",
      "step 8\n",
      "you win!\n",
      "Game over\n"
     ]
    }
   ],
   "source": [
    "n = random.randint(1,100) #随机生成一个1-100的整数\n",
    "step = 0#游戏的步骤\n",
    "low = 1\n",
    "high = 100\n",
    "print('game start')\n",
    "\n",
    "def get_number():\n",
    "    guess = input('Please enter an integer from 1 to 100:')\n",
    "    while True:\n",
    "        if guess.isdigit():\n",
    "            guess = int(guess)\n",
    "            return guess\n",
    "        else:\n",
    "            guess = input('Please enter an integer from 1 to 100:')\n",
    "\n",
    "guess = get_number()\n",
    "\n",
    "while True:\n",
    "    step+=1\n",
    "    print('step',step)\n",
    "    \n",
    "    if guess == 0:\n",
    "        print('quit')\n",
    "        break\n",
    "    \n",
    "    if guess < n:\n",
    "        print(guess,'is low')\n",
    "        low = guess + 1\n",
    "    elif guess > n:\n",
    "        print(guess,'is high')\n",
    "        high = guess + 1\n",
    "    else:\n",
    "        print('you win!')\n",
    "        break\n",
    "    print(\"you can try\",low,'to',high)\n",
    "    guess = get_number()\n",
    "\n",
    "print('Game over')"
   ]
  },
  {
   "cell_type": "code",
   "execution_count": null,
   "metadata": {},
   "outputs": [],
   "source": []
  }
 ],
 "metadata": {
  "kernelspec": {
   "display_name": "Python 3",
   "language": "python",
   "name": "python3"
  },
  "language_info": {
   "codemirror_mode": {
    "name": "ipython",
    "version": 3
   },
   "file_extension": ".py",
   "mimetype": "text/x-python",
   "name": "python",
   "nbconvert_exporter": "python",
   "pygments_lexer": "ipython3",
   "version": "3.7.0"
  }
 },
 "nbformat": 4,
 "nbformat_minor": 2
}
