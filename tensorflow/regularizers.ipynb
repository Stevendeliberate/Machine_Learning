{
 "cells": [
  {
   "cell_type": "code",
   "execution_count": 1,
   "metadata": {},
   "outputs": [],
   "source": [
    "import tensorflow as tf\n",
    "from tensorflow.keras.models import Sequential\n",
    "from tensorflow.keras.layers import Flatten , Dense\n",
    "from tensorflow.keras.optimizers import SGD\n",
    "from tensorflow.keras.regularizers import l1,l2"
   ]
  },
  {
   "cell_type": "code",
   "execution_count": 2,
   "metadata": {},
   "outputs": [
    {
     "name": "stdout",
     "output_type": "stream",
     "text": [
      "(60000, 28, 28) (10000, 28, 28)\n"
     ]
    }
   ],
   "source": [
    "#载入数据\n",
    "mnist = tf.keras.datasets.mnist\n",
    "\n",
    "(x_train,y_train),(x_test,y_test) = mnist.load_data()\n",
    "x_train , x_test = x_train/255.0 , x_test/255.0\n",
    "print(x_train.shape , x_test.shape)"
   ]
  },
  {
   "cell_type": "code",
   "execution_count": 3,
   "metadata": {},
   "outputs": [
    {
     "name": "stdout",
     "output_type": "stream",
     "text": [
      "(60000, 10) (10000, 10)\n"
     ]
    }
   ],
   "source": [
    "y_train = tf.keras.utils.to_categorical(y_train , num_classes=10)\n",
    "y_test = tf.keras.utils.to_categorical(y_test , num_classes=10)\n",
    "print(y_train.shape , y_test.shape)"
   ]
  },
  {
   "cell_type": "code",
   "execution_count": 7,
   "metadata": {},
   "outputs": [],
   "source": [
    "model = Sequential([Flatten(input_shape = (28,28))\n",
    "         ,Dense(units = 200 , activation = 'tanh' , kernel_regularizer = l2(0.0003))\n",
    "         ,Dense(units = 100 , activation = 'tanh' , kernel_regularizer = l2(0.0003))\n",
    "         ,Dense(units = 10 , activation = 'softmax' , kernel_regularizer = l2(0.0003))\n",
    "                   ])"
   ]
  },
  {
   "cell_type": "code",
   "execution_count": 8,
   "metadata": {},
   "outputs": [],
   "source": [
    "model.compile(optimizer=SGD(0.2) , loss = 'categorical_crossentropy' , metrics=['accuracy'])"
   ]
  },
  {
   "cell_type": "code",
   "execution_count": 9,
   "metadata": {},
   "outputs": [
    {
     "name": "stdout",
     "output_type": "stream",
     "text": [
      "Train on 60000 samples, validate on 10000 samples\n",
      "Epoch 1/10\n",
      "60000/60000 [==============================] - 6s 98us/sample - loss: 0.4051 - accuracy: 0.9209 - val_loss: 0.2829 - val_accuracy: 0.9550\n",
      "Epoch 2/10\n",
      "60000/60000 [==============================] - 3s 47us/sample - loss: 0.2600 - accuracy: 0.9596 - val_loss: 0.2510 - val_accuracy: 0.9595\n",
      "Epoch 3/10\n",
      "60000/60000 [==============================] - 3s 47us/sample - loss: 0.2182 - accuracy: 0.9691 - val_loss: 0.2046 - val_accuracy: 0.9692\n",
      "Epoch 4/10\n",
      "60000/60000 [==============================] - 3s 46us/sample - loss: 0.1927 - accuracy: 0.9736 - val_loss: 0.2090 - val_accuracy: 0.9659\n",
      "Epoch 5/10\n",
      "60000/60000 [==============================] - 3s 48us/sample - loss: 0.1777 - accuracy: 0.9760 - val_loss: 0.1807 - val_accuracy: 0.9735\n",
      "Epoch 6/10\n",
      "60000/60000 [==============================] - 3s 47us/sample - loss: 0.1679 - accuracy: 0.9777 - val_loss: 0.1894 - val_accuracy: 0.9689\n",
      "Epoch 7/10\n",
      "60000/60000 [==============================] - 3s 48us/sample - loss: 0.1611 - accuracy: 0.9794 - val_loss: 0.1713 - val_accuracy: 0.9748\n",
      "Epoch 8/10\n",
      "60000/60000 [==============================] - 3s 51us/sample - loss: 0.1552 - accuracy: 0.9802 - val_loss: 0.1697 - val_accuracy: 0.9733\n",
      "Epoch 9/10\n",
      "60000/60000 [==============================] - 3s 49us/sample - loss: 0.1535 - accuracy: 0.9801 - val_loss: 0.1659 - val_accuracy: 0.9747\n",
      "Epoch 10/10\n",
      "60000/60000 [==============================] - 3s 48us/sample - loss: 0.1500 - accuracy: 0.9815 - val_loss: 0.1655 - val_accuracy: 0.9753\n"
     ]
    },
    {
     "data": {
      "text/plain": [
       "<tensorflow.python.keras.callbacks.History at 0x28ce46425c8>"
      ]
     },
     "execution_count": 9,
     "metadata": {},
     "output_type": "execute_result"
    }
   ],
   "source": [
    "model.fit(x_train , y_train ,epochs=10 , validation_data=(x_test , y_test))"
   ]
  },
  {
   "cell_type": "code",
   "execution_count": 10,
   "metadata": {},
   "outputs": [
    {
     "name": "stdout",
     "output_type": "stream",
     "text": [
      "Train on 60000 samples, validate on 10000 samples\n",
      "Epoch 1/10\n",
      "60000/60000 [==============================] - 3s 51us/sample - loss: 1.1769 - accuracy: 0.8705 - val_loss: 0.8381 - val_accuracy: 0.8784\n",
      "Epoch 2/10\n",
      "60000/60000 [==============================] - 3s 47us/sample - loss: 0.8555 - accuracy: 0.8744 - val_loss: 0.8441 - val_accuracy: 0.8809\n",
      "Epoch 3/10\n",
      "60000/60000 [==============================] - 3s 47us/sample - loss: 0.8514 - accuracy: 0.8756 - val_loss: 0.8443 - val_accuracy: 0.8779\n",
      "Epoch 4/10\n",
      "60000/60000 [==============================] - 3s 44us/sample - loss: 0.8517 - accuracy: 0.8761 - val_loss: 0.8415 - val_accuracy: 0.8748\n",
      "Epoch 5/10\n",
      "60000/60000 [==============================] - 2s 41us/sample - loss: 0.8478 - accuracy: 0.8775 - val_loss: 0.8289 - val_accuracy: 0.8888\n",
      "Epoch 6/10\n",
      "60000/60000 [==============================] - 3s 46us/sample - loss: 0.8494 - accuracy: 0.8769 - val_loss: 0.8097 - val_accuracy: 0.8898\n",
      "Epoch 7/10\n",
      "60000/60000 [==============================] - 3s 47us/sample - loss: 0.8479 - accuracy: 0.8772 - val_loss: 0.8071 - val_accuracy: 0.8907\n",
      "Epoch 8/10\n",
      "60000/60000 [==============================] - 3s 45us/sample - loss: 0.8473 - accuracy: 0.8768 - val_loss: 0.8371 - val_accuracy: 0.8863\n",
      "Epoch 9/10\n",
      "60000/60000 [==============================] - 3s 47us/sample - loss: 0.8485 - accuracy: 0.8759 - val_loss: 0.8141 - val_accuracy: 0.8948\n",
      "Epoch 10/10\n",
      "60000/60000 [==============================] - 3s 46us/sample - loss: 0.8467 - accuracy: 0.8774 - val_loss: 0.8602 - val_accuracy: 0.8587\n"
     ]
    },
    {
     "data": {
      "text/plain": [
       "<tensorflow.python.keras.callbacks.History at 0x28ce46d9e08>"
      ]
     },
     "execution_count": 10,
     "metadata": {},
     "output_type": "execute_result"
    }
   ],
   "source": [
    "model1 = Sequential([Flatten(input_shape = (28,28))\n",
    "         ,Dense(units = 200 , activation = 'tanh' , kernel_regularizer = l2(0.01))\n",
    "         ,Dense(units = 100 , activation = 'tanh' , kernel_regularizer = l2(0.01))\n",
    "         ,Dense(units = 10 , activation = 'softmax' , kernel_regularizer = l2(0.01))\n",
    "                    ])\n",
    "model1.compile(optimizer=SGD(0.2) , loss = 'categorical_crossentropy' , metrics=['accuracy'])\n",
    "model1.fit(x_train , y_train ,epochs=10 , validation_data=(x_test , y_test))"
   ]
  },
  {
   "cell_type": "code",
   "execution_count": 11,
   "metadata": {},
   "outputs": [
    {
     "name": "stdout",
     "output_type": "stream",
     "text": [
      "Train on 60000 samples, validate on 10000 samples\n",
      "Epoch 1/10\n",
      "60000/60000 [==============================] - 3s 43us/sample - loss: 0.2539 - accuracy: 0.9232 - val_loss: 0.1278 - val_accuracy: 0.9631\n",
      "Epoch 2/10\n",
      "60000/60000 [==============================] - 2s 40us/sample - loss: 0.1148 - accuracy: 0.9654 - val_loss: 0.1105 - val_accuracy: 0.9653\n",
      "Epoch 3/10\n",
      "60000/60000 [==============================] - 3s 43us/sample - loss: 0.0799 - accuracy: 0.9754 - val_loss: 0.0874 - val_accuracy: 0.9718\n",
      "Epoch 4/10\n",
      "60000/60000 [==============================] - 3s 42us/sample - loss: 0.0587 - accuracy: 0.9813 - val_loss: 0.0899 - val_accuracy: 0.9721\n",
      "Epoch 5/10\n",
      "60000/60000 [==============================] - 2s 41us/sample - loss: 0.0446 - accuracy: 0.9858 - val_loss: 0.0769 - val_accuracy: 0.9758\n",
      "Epoch 6/10\n",
      "60000/60000 [==============================] - 2s 39us/sample - loss: 0.0327 - accuracy: 0.9901 - val_loss: 0.0737 - val_accuracy: 0.9755\n",
      "Epoch 7/10\n",
      "60000/60000 [==============================] - 3s 42us/sample - loss: 0.0250 - accuracy: 0.9927 - val_loss: 0.0696 - val_accuracy: 0.9778\n",
      "Epoch 8/10\n",
      "60000/60000 [==============================] - 2s 41us/sample - loss: 0.0179 - accuracy: 0.9951 - val_loss: 0.0688 - val_accuracy: 0.9789\n",
      "Epoch 9/10\n",
      "60000/60000 [==============================] - 2s 41us/sample - loss: 0.0127 - accuracy: 0.9973 - val_loss: 0.0713 - val_accuracy: 0.9783\n",
      "Epoch 10/10\n",
      "60000/60000 [==============================] - 2s 41us/sample - loss: 0.0090 - accuracy: 0.9982 - val_loss: 0.0668 - val_accuracy: 0.9788\n"
     ]
    },
    {
     "data": {
      "text/plain": [
       "<tensorflow.python.keras.callbacks.History at 0x28ce558f0c8>"
      ]
     },
     "execution_count": 11,
     "metadata": {},
     "output_type": "execute_result"
    }
   ],
   "source": [
    "model2 = Sequential([Flatten(input_shape = (28,28))\n",
    "         ,Dense(units = 200 , activation = 'tanh' )\n",
    "         ,Dense(units = 100 , activation = 'tanh' )\n",
    "         ,Dense(units = 10 , activation = 'softmax')\n",
    "                    ])\n",
    "model2.compile(optimizer=SGD(0.2) , loss = 'categorical_crossentropy' , metrics=['accuracy'])\n",
    "model2.fit(x_train , y_train ,epochs=10 , validation_data=(x_test , y_test))"
   ]
  },
  {
   "cell_type": "code",
   "execution_count": null,
   "metadata": {},
   "outputs": [],
   "source": []
  }
 ],
 "metadata": {
  "kernelspec": {
   "display_name": "Python 3",
   "language": "python",
   "name": "python3"
  },
  "language_info": {
   "codemirror_mode": {
    "name": "ipython",
    "version": 3
   },
   "file_extension": ".py",
   "mimetype": "text/x-python",
   "name": "python",
   "nbconvert_exporter": "python",
   "pygments_lexer": "ipython3",
   "version": "3.7.4"
  }
 },
 "nbformat": 4,
 "nbformat_minor": 2
}
