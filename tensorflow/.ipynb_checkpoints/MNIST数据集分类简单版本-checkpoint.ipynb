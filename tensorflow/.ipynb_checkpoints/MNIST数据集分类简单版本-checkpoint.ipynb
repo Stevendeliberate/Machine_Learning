{
 "cells": [
  {
   "cell_type": "code",
   "execution_count": 4,
   "metadata": {},
   "outputs": [],
   "source": [
    "import tensorflow as tf\n",
    "from tensorflow.keras.optimizers import SGD"
   ]
  },
  {
   "cell_type": "code",
   "execution_count": 9,
   "metadata": {},
   "outputs": [],
   "source": [
    "mnist = tf.keras.datasets.mnist"
   ]
  },
  {
   "cell_type": "code",
   "execution_count": 16,
   "metadata": {},
   "outputs": [
    {
     "name": "stdout",
     "output_type": "stream",
     "text": [
      "(60000, 28, 28) (60000,)\n",
      "Train on 60000 samples\n",
      "Epoch 1/10\n",
      "60000/60000 [==============================] - 27s 449us/sample - loss: 0.0511 - accuracy: 0.6751- loss: 0.0526 - accu - ETA: 1s - loss:\n",
      "Epoch 2/10\n",
      "60000/60000 [==============================] - 26s 427us/sample - loss: 0.0257 - accuracy: 0.8610- loss: 0.0\n",
      "Epoch 3/10\n",
      "60000/60000 [==============================] - 29s 476us/sample - loss: 0.0212 - accuracy: 0.8776\n",
      "Epoch 4/10\n",
      "60000/60000 [==============================] - 25s 416us/sample - loss: 0.0193 - accuracy: 0.8862\n",
      "Epoch 5/10\n",
      "60000/60000 [==============================] - 28s 470us/sample - loss: 0.0181 - accuracy: 0.8920ETA: 0s - loss: 0.0181 - accuracy: \n",
      "Epoch 6/10\n",
      "60000/60000 [==============================] - 28s 467us/sample - loss: 0.0173 - accuracy: 0.89629s - loss: 0.0181 - accuracy: 0. - ETA: 36s - loss: 0.0172 - accur - ETA - ETA: 19s - loss: 0.0174 -  - E - ETA: 0s - l\n",
      "Epoch 7/10\n",
      "60000/60000 [==============================] - 25s 420us/sample - loss: 0.0166 - accuracy: 0.8992\n",
      "Epoch 8/10\n",
      "60000/60000 [==============================] - 28s 474us/sample - loss: 0.0162 - accuracy: 0.9016\n",
      "Epoch 9/10\n",
      "60000/60000 [==============================] - 25s 423us/sample - loss: 0.0158 - accuracy: 0.9033\n",
      "Epoch 10/10\n",
      "60000/60000 [==============================] - 28s 461us/sample - loss: 0.0154 - accuracy: 0.9046- loss: 0.0155 - accuracy: \n",
      "10000/10000 [==============================] - 3s 338us/sample - loss: 0.0145 - accuracy: 0.9108\n"
     ]
    }
   ],
   "source": [
    "#方法1 ： 利用keras\n",
    "(x_train , y_train),(x_test , y_test) = mnist.load_data()\n",
    "#数据归一化\n",
    "x_train,x_test = x_train / 255.0 , x_test / 255.0\n",
    "print(x_train.shape , y_train.shape)\n",
    "\n",
    "y_train = tf.keras.utils.to_categorical(y_train , num_classes=10)\n",
    "y_test = tf.keras.utils.to_categorical(y_test , num_classes=10)\n",
    "\n",
    "model = tf.keras.models.Sequential([\n",
    "    tf.keras.layers.Flatten(input_shape = (28,28)),  #Flatten 数据扁平化\n",
    "    tf.keras.layers.Dense(10,activation='softmax')   #全连接层\n",
    "])\n",
    "\n",
    "sgd = SGD(0.1)\n",
    "model.compile(optimizer=sgd\n",
    "             ,loss = 'mse'\n",
    "             ,metrics = ['accuracy'])  #计算准确率\n",
    "\n",
    "model.fit(x_train , y_train , epochs=10)\n",
    "\n",
    "loss,metrics = model.evaluate(x_test , y_test)"
   ]
  },
  {
   "cell_type": "code",
   "execution_count": null,
   "metadata": {},
   "outputs": [],
   "source": []
  }
 ],
 "metadata": {
  "kernelspec": {
   "display_name": "Python 3",
   "language": "python",
   "name": "python3"
  },
  "language_info": {
   "codemirror_mode": {
    "name": "ipython",
    "version": 3
   },
   "file_extension": ".py",
   "mimetype": "text/x-python",
   "name": "python",
   "nbconvert_exporter": "python",
   "pygments_lexer": "ipython3",
   "version": "3.7.0"
  }
 },
 "nbformat": 4,
 "nbformat_minor": 2
}
