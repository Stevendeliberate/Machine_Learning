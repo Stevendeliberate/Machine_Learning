{
 "cells": [
  {
   "cell_type": "code",
   "execution_count": 1,
   "metadata": {},
   "outputs": [],
   "source": [
    "import cv2"
   ]
  },
  {
   "cell_type": "code",
   "execution_count": null,
   "metadata": {},
   "outputs": [],
   "source": [
    "import numpy as np\n",
    "import cv2\n",
    "import argparse  #从命令行读取数据\n",
    "from collections import deque  #双端序列 在序列的前后都可以执行添加或者删除操作\n",
    "\n",
    "cap=cv2.VideoCapture(0) #打开摄像头用来捕捉视频 \n",
    "                        #VideoCapture(int index, int apiPreference = CAP_ANY)\n",
    "                        #index 默认自带摄像头0，其他的外接摄像头一般是1\n",
    "\n",
    "pts = deque(maxlen=64) #创建一个最长长度为64的双向序列\n",
    "\n",
    "Lower_green = np.array([110,50,50]) #创建两个一维array\n",
    "Upper_green = np.array([130,255,255])\n",
    "while True:\n",
    "    ret, img=cap.read() #读取摄像头传入的每一帧图像到img中 是三维矩阵\n",
    "                        #ret是布尔值，如果读取帧是正确的则返回True ， 如果文件读取到结尾，她的值就返回为False\n",
    "    hsv=cv2.cvtColor(img,cv2.COLOR_BGR2HSV) #将读取到的BGR图像转化为HSV格式\n",
    "    \n",
    "    kernel=np.ones((5,5),np.uint8) #创建一个5 * 5的矩阵 矩阵中每个元素都是1，数据类型是uint8\n",
    "    \n",
    "    mask=cv2.inRange(hsv,Lower_green,Upper_green) #二值化图像，二值化去间是之前定义的Lower_green Upper_green\n",
    "    \n",
    "    mask = cv2.erode(mask, kernel, iterations=2) #腐蚀二值化后的图像 内核时之前创建的 kernel\n",
    "    \n",
    "    mask=cv2.morphologyEx(mask,cv2.MORPH_OPEN,kernel)#\n",
    "    #mask=cv2.morphologyEx(mask,cv2.MORPH_CLOSE,kernel)\n",
    "    mask = cv2.dilate(mask, kernel, iterations=1)\n",
    "    res=cv2.bitwise_and(img,img,mask=mask)\n",
    "    cnts,heir=cv2.findContours(mask.copy(),cv2.RETR_EXTERNAL,cv2.CHAIN_APPROX_SIMPLE)[-2:]\n",
    "    center = None\n",
    "\n",
    "    if len(cnts) > 0:\n",
    "        c = max(cnts, key=cv2.contourArea)\n",
    "        ((x, y), radius) = cv2.minEnclosingCircle(c)\n",
    "        M = cv2.moments(c)\n",
    "        center = (int(M[\"m10\"] / M[\"m00\"]), int(M[\"m01\"] / M[\"m00\"]))\n",
    "\n",
    "        if radius > 5:\n",
    "            cv2.circle(img, (int(x), int(y)), int(radius),(0, 255, 255), 2)\n",
    "            cv2.circle(img, center, 5, (0, 0, 255), -1)\n",
    "\n",
    "    pts.appendleft(center)\n",
    "    for i in range (1,len(pts)):\n",
    "        if pts[i-1]is None or pts[i] is None:\n",
    "            continue\n",
    "        thick = int(np.sqrt(len(pts) / float(i + 1)) * 2.5)\n",
    "        cv2.line(img, pts[i-1],pts[i],(0,0,225),thick)\n",
    "\n",
    "    cv2.imshow(\"Frame\", img)\n",
    "    cv2.imshow(\"mask\",mask)\n",
    "    cv2.imshow(\"res\",res)\n",
    "\n",
    "    k=cv2.waitKey(30) & 0xFF\n",
    "    if k==32:\n",
    "        break\n",
    "# cleanup the camera and close any open windows\n",
    "cap.release()\n",
    "cv2.destroyAllWindows()"
   ]
  },
  {
   "cell_type": "code",
   "execution_count": null,
   "metadata": {},
   "outputs": [],
   "source": []
  }
 ],
 "metadata": {
  "kernelspec": {
   "display_name": "Python 3",
   "language": "python",
   "name": "python3"
  },
  "language_info": {
   "codemirror_mode": {
    "name": "ipython",
    "version": 3
   },
   "file_extension": ".py",
   "mimetype": "text/x-python",
   "name": "python",
   "nbconvert_exporter": "python",
   "pygments_lexer": "ipython3",
   "version": "3.7.0"
  }
 },
 "nbformat": 4,
 "nbformat_minor": 2
}
