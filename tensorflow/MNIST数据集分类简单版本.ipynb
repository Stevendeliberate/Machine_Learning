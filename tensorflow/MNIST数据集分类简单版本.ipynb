{
 "cells": [
  {
   "cell_type": "code",
   "execution_count": 4,
   "metadata": {},
   "outputs": [],
   "source": [
    "import tensorflow as tf\n",
    "from tensorflow.keras.optimizers import SGD"
   ]
  },
  {
   "cell_type": "code",
   "execution_count": 9,
   "metadata": {},
   "outputs": [],
   "source": [
    "mnist = tf.keras.datasets.mnist"
   ]
  },
  {
   "cell_type": "code",
   "execution_count": 16,
   "metadata": {},
   "outputs": [
    {
     "name": "stdout",
     "output_type": "stream",
     "text": [
      "(60000, 28, 28) (60000,)\n",
      "Train on 60000 samples\n",
      "Epoch 1/10\n",
      "60000/60000 [==============================] - 27s 449us/sample - loss: 0.0511 - accuracy: 0.6751- loss: 0.0526 - accu - ETA: 1s - loss:\n",
      "Epoch 2/10\n",
      "60000/60000 [==============================] - 26s 427us/sample - loss: 0.0257 - accuracy: 0.8610- loss: 0.0\n",
      "Epoch 3/10\n",
      "60000/60000 [==============================] - 29s 476us/sample - loss: 0.0212 - accuracy: 0.8776\n",
      "Epoch 4/10\n",
      "60000/60000 [==============================] - 25s 416us/sample - loss: 0.0193 - accuracy: 0.8862\n",
      "Epoch 5/10\n",
      "60000/60000 [==============================] - 28s 470us/sample - loss: 0.0181 - accuracy: 0.8920ETA: 0s - loss: 0.0181 - accuracy: \n",
      "Epoch 6/10\n",
      "60000/60000 [==============================] - 28s 467us/sample - loss: 0.0173 - accuracy: 0.89629s - loss: 0.0181 - accuracy: 0. - ETA: 36s - loss: 0.0172 - accur - ETA - ETA: 19s - loss: 0.0174 -  - E - ETA: 0s - l\n",
      "Epoch 7/10\n",
      "60000/60000 [==============================] - 25s 420us/sample - loss: 0.0166 - accuracy: 0.8992\n",
      "Epoch 8/10\n",
      "60000/60000 [==============================] - 28s 474us/sample - loss: 0.0162 - accuracy: 0.9016\n",
      "Epoch 9/10\n",
      "60000/60000 [==============================] - 25s 423us/sample - loss: 0.0158 - accuracy: 0.9033\n",
      "Epoch 10/10\n",
      "60000/60000 [==============================] - 28s 461us/sample - loss: 0.0154 - accuracy: 0.9046- loss: 0.0155 - accuracy: \n",
      "10000/10000 [==============================] - 3s 338us/sample - loss: 0.0145 - accuracy: 0.9108\n"
     ]
    }
   ],
   "source": [
    "#方法1 ： 利用keras\n",
    "(x_train , y_train),(x_test , y_test) = mnist.load_data()\n",
    "#数据归一化\n",
    "x_train,x_test = x_train / 255.0 , x_test / 255.0\n",
    "print(x_train.shape , y_train.shape)\n",
    "\n",
    "y_train = tf.keras.utils.to_categorical(y_train , num_classes=10)\n",
    "y_test = tf.keras.utils.to_categorical(y_test , num_classes=10)\n",
    "\n",
    "model = tf.keras.models.Sequential([\n",
    "    tf.keras.layers.Flatten(input_shape = (28,28)),  #Flatten 数据扁平化\n",
    "    tf.keras.layers.Dense(10,activation='softmax')   #全连接层\n",
    "])\n",
    "\n",
    "sgd = SGD(0.1)\n",
    "model.compile(optimizer=sgd\n",
    "             ,loss = 'mse'\n",
    "             ,metrics = ['accuracy'])  #计算准确率\n",
    "\n",
    "model.fit(x_train , y_train , epochs=10)\n",
    "\n",
    "loss,metrics = model.evaluate(x_test , y_test)"
   ]
  },
  {
   "cell_type": "code",
   "execution_count": 17,
   "metadata": {},
   "outputs": [
    {
     "name": "stdout",
     "output_type": "stream",
     "text": [
      "(60000, 28, 28) (60000,)\n"
     ]
    }
   ],
   "source": [
    "#方法2\n",
    "(x_train , y_train),(x_test , y_test) = mnist.load_data()\n",
    "#数据归一化\n",
    "x_train,x_test = x_train / 255.0 , x_test / 255.0\n",
    "print(x_train.shape , y_train.shape)\n",
    "\n",
    "#数据转为独热编码\n",
    "y_train = tf.keras.utils.to_categorical(y_train , num_classes=10)\n",
    "y_test = tf.keras.utils.to_categorical(y_test , num_classes=10)"
   ]
  },
  {
   "cell_type": "code",
   "execution_count": 18,
   "metadata": {},
   "outputs": [],
   "source": [
    "#创建dataset对象\n",
    "mnist_train = tf.data.Dataset.from_tensor_slices((x_train , y_train))\n",
    "#训练周期\n",
    "mnist_train = mnist_train.repeat(1)\n",
    "#批次大小\n",
    "mnist_train = mnist_train.batch(32)\n",
    "\n",
    "#创建dataset对象\n",
    "mnist_test = tf.data.Dataset.from_tensor_slices((x_test , y_test))\n",
    "#训练周期\n",
    "mnist_test = mnist_test.repeat(1)\n",
    "#批次大小\n",
    "mnist_test = mnist_train.batch(32)"
   ]
  },
  {
   "cell_type": "code",
   "execution_count": 21,
   "metadata": {},
   "outputs": [],
   "source": [
    "#模型定义\n",
    "model = tf.keras.models.Sequential([\n",
    "    tf.keras.layers.Flatten(input_shape = (28,28))\n",
    "    ,tf.keras.layers.Dense(10,activation='softmax')\n",
    "])\n",
    "#优化器定义\n",
    "optimizer = tf.keras.optimizers.SGD(0.1)\n",
    "#训练loss\n",
    "train_accuracy = tf.keras.metrics.CategoricalAccuracy(name = 'train_accuracy')\n",
    "#测试loss\n",
    "test_loss = tf.keras.metrics.Mean(name = 'test_loss')\n",
    "#测试准确率计算\n",
    "test_accuracy = tf.keras.metrics.CategoricalAccuracy(name = 'test_accyracy')"
   ]
  },
  {
   "cell_type": "code",
   "execution_count": null,
   "metadata": {},
   "outputs": [],
   "source": [
    "#模型训练\n",
    "def train_step(data , label):\n",
    "    with tf.GradientTape() as tape:\n",
    "        #传入数据预测结果\n",
    "        predictions = model(data)\n",
    "        #计算loss\n",
    "        loss = tf.keras.losses.MSE(label , predictions)\n",
    "        #计算权值"
   ]
  }
 ],
 "metadata": {
  "kernelspec": {
   "display_name": "Python 3",
   "language": "python",
   "name": "python3"
  },
  "language_info": {
   "codemirror_mode": {
    "name": "ipython",
    "version": 3
   },
   "file_extension": ".py",
   "mimetype": "text/x-python",
   "name": "python",
   "nbconvert_exporter": "python",
   "pygments_lexer": "ipython3",
   "version": "3.7.0"
  }
 },
 "nbformat": 4,
 "nbformat_minor": 2
}
