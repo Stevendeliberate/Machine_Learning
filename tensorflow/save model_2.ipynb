{
 "cells": [
  {
   "cell_type": "code",
   "execution_count": 1,
   "metadata": {},
   "outputs": [],
   "source": [
    "import tensorflow as tf"
   ]
  },
  {
   "cell_type": "code",
   "execution_count": 2,
   "metadata": {},
   "outputs": [],
   "source": [
    "#载入数据集\n",
    "mnist = tf.keras.datasets.mnist"
   ]
  },
  {
   "cell_type": "code",
   "execution_count": 3,
   "metadata": {},
   "outputs": [
    {
     "name": "stdout",
     "output_type": "stream",
     "text": [
      "(60000, 28, 28) (10000, 28, 28)\n"
     ]
    }
   ],
   "source": [
    "(x_train , y_train),(x_test , y_test) = mnist.load_data()\n",
    "x_train , x_test = x_train/255.0 , x_test/255.0\n",
    "print(x_train.shape , x_test.shape)"
   ]
  },
  {
   "cell_type": "code",
   "execution_count": 4,
   "metadata": {},
   "outputs": [
    {
     "name": "stdout",
     "output_type": "stream",
     "text": [
      "(60000, 10) (10000, 10)\n"
     ]
    }
   ],
   "source": [
    "y_train = tf.keras.utils.to_categorical(y_train , num_classes=10)\n",
    "y_test = tf.keras.utils.to_categorical(y_test , num_classes=10)\n",
    "print(y_train.shape , y_test.shape)"
   ]
  },
  {
   "cell_type": "code",
   "execution_count": 5,
   "metadata": {},
   "outputs": [],
   "source": [
    "#创建dataset对象\n",
    "mnist_train = tf.data.Dataset.from_tensor_slices((x_train , y_train))\n",
    "#训练周期\n",
    "mnist_train = mnist_train.repeat(1)\n",
    "#批次大小\n",
    "mnist_train = mnist_train.batch(32)\n",
    "\n",
    "#创建dataset对象\n",
    "mnist_test = tf.data.Dataset.from_tensor_slices((x_test , y_test))\n",
    "#训练周期\n",
    "mnist_test= mnist_test.repeat(1)\n",
    "#批次大小\n",
    "mnist_test = mnist_test.batch(32)"
   ]
  },
  {
   "cell_type": "code",
   "execution_count": 6,
   "metadata": {},
   "outputs": [],
   "source": [
    "#模型定义\n",
    "model = tf.keras.models.Sequential([\n",
    "    tf.keras.layers.Flatten(input_shape=(28,28)),\n",
    "    tf.keras.layers.Dense(10,activation='softmax')\n",
    "])\n",
    "#优化器定义\n",
    "optimizer = tf.keras.optimizers.SGD(0.1)\n",
    "#训练loss train_loss模型\n",
    "train_loss = tf.keras.metrics.Mean(name = 'train_loss')\n",
    "#训练准确率计算\n",
    "train_accuracy = tf.keras.metrics.CategoricalAccuracy(name = 'train_accuracy')\n",
    "#测试loss test_loss模型\n",
    "test_loss = tf.keras.metrics.Mean(name= 'test_loss')\n",
    "#测试准确率\n",
    "test_accuracy = tf.keras.metrics.CategoricalAccuracy(name = 'test_accuracy')"
   ]
  },
  {
   "cell_type": "code",
   "execution_count": 7,
   "metadata": {},
   "outputs": [],
   "source": [
    "#模型训练\n",
    "@tf.function#放在tensorflow的图中，加速训练计算速度\n",
    "def train_step(data,label):\n",
    "    with tf.GradientTape() as tape:\n",
    "        #传入数据预测结果\n",
    "        predictions = model(data)\n",
    "        #计算loss\n",
    "        loss = tf.keras.losses.MSE(label,predictions)\n",
    "        #计算权值调整\n",
    "        gradients = tape.gradient(loss,model.trainable_variables)\n",
    "        #进行权值调整\n",
    "        optimizer.apply_gradients(zip(gradients,model.trainable_variables))\n",
    "        #计算平均loss\n",
    "        train_loss(loss)\n",
    "        #计算平均准确率\n",
    "        train_accuracy(label,predictions)"
   ]
  },
  {
   "cell_type": "code",
   "execution_count": 8,
   "metadata": {},
   "outputs": [],
   "source": [
    "#模型测试\n",
    "@tf.function\n",
    "def test_step(data,label):\n",
    "    #传入数据预测结果\n",
    "    predictions = model(data)\n",
    "    #计算loss\n",
    "    t_loss = tf.keras.losses.MSE(label , predictions)\n",
    "    #计算平均loss\n",
    "    test_loss(t_loss)\n",
    "    #计算平均准确率\n",
    "    test_accuracy(label , predictions)"
   ]
  },
  {
   "cell_type": "code",
   "execution_count": 9,
   "metadata": {},
   "outputs": [],
   "source": [
    "#定义模型保存\n",
    "ckpt = tf.train.Checkpoint(step=tf.Variable(1) , optimizer = optimizer , model = model)\n",
    "manager = tf.train.CheckpointManager(ckpt,'tf2_ckpts',max_to_keep=3)"
   ]
  },
  {
   "cell_type": "code",
   "execution_count": 10,
   "metadata": {},
   "outputs": [
    {
     "name": "stdout",
     "output_type": "stream",
     "text": [
      "WARNING:tensorflow:Layer flatten is casting an input tensor from dtype float64 to the layer's dtype of float32, which is new behavior in TensorFlow 2.  The layer has dtype float32 because it's dtype defaults to floatx.\n",
      "\n",
      "If you intended to run this layer in float32, you can safely ignore this warning. If in doubt, this warning is likely only an issue if you are porting a TensorFlow 1.X model to TensorFlow 2.\n",
      "\n",
      "To change all layers to have dtype float64 by default, call `tf.keras.backend.set_floatx('float64')`. To change just this layer, pass dtype='float64' to the layer constructor. If you are the author of this layer, you can disable autocasting by passing autocast=False to the base Layer constructor.\n",
      "\n",
      "Epoch 1, Loss:0.0172,Accuracy:0.89,Test Loss:0.014,Test Accuracy:0.908\n",
      "Epoch 2, Loss:0.0151,Accuracy:0.903,Test Loss:0.0135,Test Accuracy:0.911\n",
      "Epoch 3, Loss:0.0141,Accuracy:0.91,Test Loss:0.0131,Test Accuracy:0.913\n",
      "Epoch 4, Loss:0.0135,Accuracy:0.914,Test Loss:0.0129,Test Accuracy:0.915\n",
      "Epoch 5, Loss:0.0131,Accuracy:0.916,Test Loss:0.0128,Test Accuracy:0.916\n"
     ]
    }
   ],
   "source": [
    "EPOCHS = 5\n",
    "#训练5个周期\n",
    "for epoch in range(EPOCHS):\n",
    "    #循环60000/32 = 1875次\n",
    "    for image , label in mnist_train:\n",
    "        #训练模型\n",
    "        train_step(image , label)\n",
    "    #循环10000/32 = 312.5  == 313次\n",
    "    for test_image , test_label in mnist_test:\n",
    "        #测试模型\n",
    "        test_step(test_image , test_label)\n",
    "        \n",
    "    #打印结果\n",
    "    template = 'Epoch {}, Loss:{:.3},Accuracy:{:.3},Test Loss:{:.3},Test Accuracy:{:.3}'\n",
    "    print(template.format(epoch +1,\n",
    "                         train_loss.result(),\n",
    "                         train_accuracy.result(),\n",
    "                         test_loss.result(),\n",
    "                         test_accuracy.result()))\n",
    "    manager.save()"
   ]
  },
  {
   "cell_type": "code",
   "execution_count": null,
   "metadata": {},
   "outputs": [],
   "source": []
  }
 ],
 "metadata": {
  "kernelspec": {
   "display_name": "Python 3",
   "language": "python",
   "name": "python3"
  },
  "language_info": {
   "codemirror_mode": {
    "name": "ipython",
    "version": 3
   },
   "file_extension": ".py",
   "mimetype": "text/x-python",
   "name": "python",
   "nbconvert_exporter": "python",
   "pygments_lexer": "ipython3",
   "version": "3.7.4"
  }
 },
 "nbformat": 4,
 "nbformat_minor": 2
}
