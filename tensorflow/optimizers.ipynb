{
 "cells": [
  {
   "cell_type": "code",
   "execution_count": 1,
   "metadata": {},
   "outputs": [],
   "source": [
    "import tensorflow as tf"
   ]
  },
  {
   "cell_type": "code",
   "execution_count": 2,
   "metadata": {},
   "outputs": [],
   "source": [
    "mnist = tf.keras.datasets.mnist"
   ]
  },
  {
   "cell_type": "code",
   "execution_count": 3,
   "metadata": {},
   "outputs": [
    {
     "name": "stdout",
     "output_type": "stream",
     "text": [
      "(60000, 28, 28) (10000, 28, 28)\n"
     ]
    }
   ],
   "source": [
    "(x_train , y_train),(x_test , y_test) = mnist.load_data()\n",
    "x_train,x_test = x_train/255.0 , x_test/255.0\n",
    "print(x_train.shape , x_test.shape)"
   ]
  },
  {
   "cell_type": "code",
   "execution_count": 4,
   "metadata": {},
   "outputs": [
    {
     "name": "stdout",
     "output_type": "stream",
     "text": [
      "(60000, 10)\n",
      "(10000, 10)\n"
     ]
    }
   ],
   "source": [
    "y_train = tf.keras.utils.to_categorical(y_train , num_classes=10)\n",
    "y_test = tf.keras.utils.to_categorical(y_test , num_classes=10)\n",
    "print(y_train.shape)\n",
    "print(y_test.shape)"
   ]
  },
  {
   "cell_type": "code",
   "execution_count": 5,
   "metadata": {},
   "outputs": [],
   "source": [
    "model = tf.keras.Sequential()"
   ]
  },
  {
   "cell_type": "code",
   "execution_count": 6,
   "metadata": {},
   "outputs": [],
   "source": [
    "model.add(tf.keras.layers.Flatten(input_shape = (28,28)))\n",
    "model.add(tf.keras.layers.Dense(units =10 , activation = 'softmax'))"
   ]
  },
  {
   "cell_type": "code",
   "execution_count": 7,
   "metadata": {},
   "outputs": [],
   "source": [
    "#定义优化器\n",
    "model.compile(optimizer=tf.optimizers.Adam(0.003) , loss = 'categorical_crossentropy' , metrics=['accuracy'])"
   ]
  },
  {
   "cell_type": "code",
   "execution_count": 8,
   "metadata": {},
   "outputs": [
    {
     "name": "stdout",
     "output_type": "stream",
     "text": [
      "Train on 60000 samples, validate on 10000 samples\n",
      "Epoch 1/10\n",
      "60000/60000 [==============================] - 5s 77us/sample - loss: 0.3687 - accuracy: 0.8967 - val_loss: 0.2909 - val_accuracy: 0.9181\n",
      "Epoch 2/10\n",
      "60000/60000 [==============================] - 3s 43us/sample - loss: 0.2867 - accuracy: 0.9198 - val_loss: 0.2764 - val_accuracy: 0.9242\n",
      "Epoch 3/10\n",
      "60000/60000 [==============================] - 3s 44us/sample - loss: 0.2767 - accuracy: 0.9231 - val_loss: 0.2837 - val_accuracy: 0.9224\n",
      "Epoch 4/10\n",
      "60000/60000 [==============================] - 3s 43us/sample - loss: 0.2703 - accuracy: 0.9246 - val_loss: 0.2894 - val_accuracy: 0.9183\n",
      "Epoch 5/10\n",
      "60000/60000 [==============================] - 3s 44us/sample - loss: 0.2643 - accuracy: 0.9265 - val_loss: 0.2869 - val_accuracy: 0.9207\n",
      "Epoch 6/10\n",
      "60000/60000 [==============================] - 3s 43us/sample - loss: 0.2616 - accuracy: 0.9268 - val_loss: 0.2768 - val_accuracy: 0.9238\n",
      "Epoch 7/10\n",
      "60000/60000 [==============================] - 3s 44us/sample - loss: 0.2601 - accuracy: 0.9281 - val_loss: 0.2826 - val_accuracy: 0.9242\n",
      "Epoch 8/10\n",
      "60000/60000 [==============================] - 3s 44us/sample - loss: 0.2573 - accuracy: 0.9286 - val_loss: 0.2876 - val_accuracy: 0.9208\n",
      "Epoch 9/10\n",
      "60000/60000 [==============================] - 3s 43us/sample - loss: 0.2554 - accuracy: 0.9292 - val_loss: 0.2954 - val_accuracy: 0.9218\n",
      "Epoch 10/10\n",
      "60000/60000 [==============================] - 3s 44us/sample - loss: 0.2544 - accuracy: 0.9293 - val_loss: 0.2870 - val_accuracy: 0.9253\n"
     ]
    },
    {
     "data": {
      "text/plain": [
       "<tensorflow.python.keras.callbacks.History at 0x23b14f395c8>"
      ]
     },
     "execution_count": 8,
     "metadata": {},
     "output_type": "execute_result"
    }
   ],
   "source": [
    "model.fit(x_train , y_train , epochs=10,validation_data=(x_test , y_test))"
   ]
  },
  {
   "cell_type": "code",
   "execution_count": 9,
   "metadata": {},
   "outputs": [
    {
     "name": "stdout",
     "output_type": "stream",
     "text": [
      "Train on 60000 samples, validate on 10000 samples\n",
      "Epoch 1/10\n",
      "60000/60000 [==============================] - 3s 44us/sample - loss: 0.2325 - accuracy: 0.9367 - val_loss: 0.2723 - val_accuracy: 0.9283\n",
      "Epoch 2/10\n",
      "60000/60000 [==============================] - 2s 41us/sample - loss: 0.2290 - accuracy: 0.9379 - val_loss: 0.2719 - val_accuracy: 0.9285\n",
      "Epoch 3/10\n",
      "60000/60000 [==============================] - 2s 41us/sample - loss: 0.2279 - accuracy: 0.9380 - val_loss: 0.2710 - val_accuracy: 0.9293\n",
      "Epoch 4/10\n",
      "60000/60000 [==============================] - 2s 41us/sample - loss: 0.2273 - accuracy: 0.9383 - val_loss: 0.2705 - val_accuracy: 0.9292\n",
      "Epoch 5/10\n",
      "60000/60000 [==============================] - 2s 40us/sample - loss: 0.2270 - accuracy: 0.9388 - val_loss: 0.2710 - val_accuracy: 0.9288\n",
      "Epoch 6/10\n",
      "60000/60000 [==============================] - 2s 42us/sample - loss: 0.2267 - accuracy: 0.9385 - val_loss: 0.2707 - val_accuracy: 0.9285\n",
      "Epoch 7/10\n",
      "60000/60000 [==============================] - 2s 42us/sample - loss: 0.2265 - accuracy: 0.9387 - val_loss: 0.2709 - val_accuracy: 0.9284\n",
      "Epoch 8/10\n",
      "60000/60000 [==============================] - 2s 41us/sample - loss: 0.2264 - accuracy: 0.9384 - val_loss: 0.2700 - val_accuracy: 0.9288\n",
      "Epoch 9/10\n",
      "60000/60000 [==============================] - 2s 42us/sample - loss: 0.2263 - accuracy: 0.9385 - val_loss: 0.2707 - val_accuracy: 0.9286\n",
      "Epoch 10/10\n",
      "60000/60000 [==============================] - 2s 42us/sample - loss: 0.2260 - accuracy: 0.9381 - val_loss: 0.2706 - val_accuracy: 0.9287\n"
     ]
    },
    {
     "data": {
      "text/plain": [
       "<tensorflow.python.keras.callbacks.History at 0x23b156f1688>"
      ]
     },
     "execution_count": 9,
     "metadata": {},
     "output_type": "execute_result"
    }
   ],
   "source": [
    "model.compile(optimizer=tf.optimizers.SGD(0.01) , loss = 'categorical_crossentropy' , metrics=['accuracy'])\n",
    "model.fit(x_train , y_train , epochs=10,validation_data=(x_test , y_test))"
   ]
  },
  {
   "cell_type": "code",
   "execution_count": null,
   "metadata": {},
   "outputs": [],
   "source": []
  }
 ],
 "metadata": {
  "kernelspec": {
   "display_name": "Python 3",
   "language": "python",
   "name": "python3"
  },
  "language_info": {
   "codemirror_mode": {
    "name": "ipython",
    "version": 3
   },
   "file_extension": ".py",
   "mimetype": "text/x-python",
   "name": "python",
   "nbconvert_exporter": "python",
   "pygments_lexer": "ipython3",
   "version": "3.7.4"
  }
 },
 "nbformat": 4,
 "nbformat_minor": 2
}
