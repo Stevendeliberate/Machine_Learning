{
 "cells": [
  {
   "cell_type": "code",
   "execution_count": 30,
   "metadata": {},
   "outputs": [],
   "source": [
    "import numpy as np"
   ]
  },
  {
   "cell_type": "code",
   "execution_count": 34,
   "metadata": {},
   "outputs": [],
   "source": [
    "with open(\"C:/Users/steven_cha/Desktop/ml_hw/HW00/matrixA.txt\", \"r\") as lines:\n",
    "    matrixA = lines.read().split(',')\n",
    "    matrixA = list(map(int, matrixA))\n"
   ]
  },
  {
   "cell_type": "code",
   "execution_count": 35,
   "metadata": {},
   "outputs": [],
   "source": [
    "with open(\"C:/Users/steven_cha/Desktop/ml_hw/HW00/matrixB.txt\",\"r\")as lines:\n",
    "    matrixB = lines.readlines()\n",
    "    matrixB = [line.strip()for line in matrixB]\n",
    "    matrixB = [list(map(int,line.split(',')))for line in matrixB]"
   ]
  },
  {
   "cell_type": "code",
   "execution_count": 37,
   "metadata": {},
   "outputs": [],
   "source": [
    "A = np.array(matrixA)\n",
    "B = np.array(matrixB)\n",
    "\n",
    "C = A.dot(B)\n",
    "C = np.sort(C)\n",
    "\n",
    "np.savetxt(\"C:/Users/steven_cha/Desktop/ml_hw/HW00/ans_one.txt\",C,fmt=\"%d\")"
   ]
  },
  {
   "cell_type": "code",
   "execution_count": null,
   "metadata": {},
   "outputs": [],
   "source": []
  }
 ],
 "metadata": {
  "kernelspec": {
   "display_name": "Python 3",
   "language": "python",
   "name": "python3"
  },
  "language_info": {
   "codemirror_mode": {
    "name": "ipython",
    "version": 3
   },
   "file_extension": ".py",
   "mimetype": "text/x-python",
   "name": "python",
   "nbconvert_exporter": "python",
   "pygments_lexer": "ipython3",
   "version": "3.7.0"
  }
 },
 "nbformat": 4,
 "nbformat_minor": 2
}
