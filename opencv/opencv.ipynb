{
 "cells": [
  {
   "cell_type": "code",
   "execution_count": 1,
   "metadata": {},
   "outputs": [],
   "source": [
    "import cv2"
   ]
  },
  {
   "cell_type": "code",
   "execution_count": 2,
   "metadata": {},
   "outputs": [
    {
     "ename": "KeyboardInterrupt",
     "evalue": "",
     "output_type": "error",
     "traceback": [
      "\u001b[1;31m---------------------------------------------------------------------------\u001b[0m",
      "\u001b[1;31mKeyboardInterrupt\u001b[0m                         Traceback (most recent call last)",
      "\u001b[1;32m<ipython-input-2-2e1ae75778cc>\u001b[0m in \u001b[0;36m<module>\u001b[1;34m\u001b[0m\n\u001b[0;32m     13\u001b[0m \u001b[0mUpper_green\u001b[0m \u001b[1;33m=\u001b[0m \u001b[0mnp\u001b[0m\u001b[1;33m.\u001b[0m\u001b[0marray\u001b[0m\u001b[1;33m(\u001b[0m\u001b[1;33m[\u001b[0m\u001b[1;36m130\u001b[0m\u001b[1;33m,\u001b[0m\u001b[1;36m255\u001b[0m\u001b[1;33m,\u001b[0m\u001b[1;36m255\u001b[0m\u001b[1;33m]\u001b[0m\u001b[1;33m)\u001b[0m\u001b[1;33m\u001b[0m\u001b[1;33m\u001b[0m\u001b[0m\n\u001b[0;32m     14\u001b[0m \u001b[1;32mwhile\u001b[0m \u001b[1;32mTrue\u001b[0m\u001b[1;33m:\u001b[0m\u001b[1;33m\u001b[0m\u001b[1;33m\u001b[0m\u001b[0m\n\u001b[1;32m---> 15\u001b[1;33m     \u001b[0mret\u001b[0m\u001b[1;33m,\u001b[0m \u001b[0mimg\u001b[0m\u001b[1;33m=\u001b[0m\u001b[0mcap\u001b[0m\u001b[1;33m.\u001b[0m\u001b[0mread\u001b[0m\u001b[1;33m(\u001b[0m\u001b[1;33m)\u001b[0m \u001b[1;31m#读取摄像头传入的每一帧图像到img中 是三维矩阵\u001b[0m\u001b[1;33m\u001b[0m\u001b[1;33m\u001b[0m\u001b[0m\n\u001b[0m\u001b[0;32m     16\u001b[0m                         \u001b[1;31m#ret是布尔值，如果读取帧是正确的则返回True ， 如果文件读取到结尾，她的值就返回为False\u001b[0m\u001b[1;33m\u001b[0m\u001b[1;33m\u001b[0m\u001b[1;33m\u001b[0m\u001b[0m\n\u001b[0;32m     17\u001b[0m     \u001b[0mhsv\u001b[0m\u001b[1;33m=\u001b[0m\u001b[0mcv2\u001b[0m\u001b[1;33m.\u001b[0m\u001b[0mcvtColor\u001b[0m\u001b[1;33m(\u001b[0m\u001b[0mimg\u001b[0m\u001b[1;33m,\u001b[0m\u001b[0mcv2\u001b[0m\u001b[1;33m.\u001b[0m\u001b[0mCOLOR_BGR2HSV\u001b[0m\u001b[1;33m)\u001b[0m \u001b[1;31m#将读取到的BGR图像转化为HSV格式\u001b[0m\u001b[1;33m\u001b[0m\u001b[1;33m\u001b[0m\u001b[0m\n",
      "\u001b[1;31mKeyboardInterrupt\u001b[0m: "
     ]
    }
   ],
   "source": [
    "import numpy as np\n",
    "import cv2\n",
    "import argparse  #从命令行读取数据\n",
    "from collections import deque  #双端序列 在序列的前后都可以执行添加或者删除操作\n",
    "\n",
    "cap=cv2.VideoCapture(0) #打开摄像头用来捕捉视频 \n",
    "                        #VideoCapture(int index, int apiPreference = CAP_ANY)\n",
    "                        #index 默认自带摄像头0，其他的外接摄像头一般是1\n",
    "\n",
    "pts = deque(maxlen=64) #创建一个最长长度为64的双向序列\n",
    "\n",
    "Lower_green = np.array([110,50,50]) #创建两个一维array\n",
    "Upper_green = np.array([130,255,255])\n",
    "\n",
    "while True:\n",
    "    ret, img=cap.read() #读取摄像头传入的每一帧图像到img中 是三维矩阵\n",
    "                        #ret是布尔值，如果读取帧是正确的则返回True ， 如果文件读取到结尾，她的值就返回为False\n",
    "    hsv=cv2.cvtColor(img,cv2.COLOR_BGR2HSV) #将读取到的BGR图像转化为HSV格式\n",
    "    \n",
    "    kernel=np.ones((5,5),np.uint8) #创建一个5 * 5的矩阵 矩阵中每个元素都是1，数据类型是uint8\n",
    "    \n",
    "    mask=cv2.inRange(hsv,Lower_green,Upper_green) #二值化图像，二值化去间是之前定义的Lower_green Upper_green\n",
    "    \n",
    "    mask = cv2.erode(mask, kernel, iterations=2) #腐蚀二值化后的图像 内核时之前创建的 kernel\n",
    "    \n",
    "    mask=cv2.morphologyEx(mask,cv2.MORPH_OPEN,kernel) #对图像进行开运算 其实就是先腐蚀后膨胀的过程。\n",
    "                                                    #开运算可以用来消除小物体，在纤细处分离物体，并且在平滑较大物体的边界的同时不明显改变其面积。\n",
    "    \n",
    "    #mask=cv2.morphologyEx(mask,cv2.MORPH_CLOSE,kernel)#闭运算\n",
    "  \n",
    "    mask = cv2.dilate(mask, kernel, iterations=1)#对图像进行再次膨胀 迭代一次\n",
    "  \n",
    "    res=cv2.bitwise_and(img,img,mask=mask)#bitwise_and是对二进制数据进行“与”操作，\n",
    "                                          #即对图像（灰度图像或彩色图像均可）每个像素值进行二进制“与”操作\n",
    "                                          #1&1=1，1&0=0，0&1=0，0&0=0\n",
    "  \n",
    "    cnts,heir=cv2.findContours(mask.copy(),cv2.RETR_EXTERNAL,cv2.CHAIN_APPROX_SIMPLE)[-2:] #轮廓检测算子\n",
    "                                            #轮廓的检索模式：CV_RETR_EXTERNAL：只检测最外围轮廓，包含在外围轮廓内的内围轮廓被忽略；\n",
    "                                            #轮廓的近似方法：仅保存轮廓的拐点信息，把所有轮廓拐点处的点保存入contours向量内，拐点与拐点之间直线段上的信息点不予保留；\n",
    "    center = None\n",
    "\n",
    "    if len(cnts) > 0:\n",
    "        c = max(cnts, key=cv2.contourArea)\n",
    "        ((x, y), radius) = cv2.minEnclosingCircle(c)\n",
    "        M = cv2.moments(c)\n",
    "        center = (int(M[\"m10\"] / M[\"m00\"]), int(M[\"m01\"] / M[\"m00\"]))\n",
    "\n",
    "        if radius > 5:\n",
    "            cv2.circle(img, (int(x), int(y)), int(radius),(0, 255, 255), 2)\n",
    "            cv2.circle(img, center, 5, (0, 0, 255), -1)\n",
    "\n",
    "    pts.appendleft(center)\n",
    "    for i in range (1,len(pts)):\n",
    "        if pts[i-1]is None or pts[i] is None:\n",
    "            continue\n",
    "        thick = int(np.sqrt(len(pts) / float(i + 1)) * 2.5)\n",
    "        cv2.line(img, pts[i-1],pts[i],(0,0,225),thick)\n",
    "\n",
    "    cv2.imshow(\"Frame\", img)\n",
    "    cv2.imshow(\"mask\",mask)\n",
    "    cv2.imshow(\"res\",res)\n",
    "\n",
    "    k=cv2.waitKey(30) & 0xFF\n",
    "    if k==32:\n",
    "        break\n",
    "# cleanup the camera and close any open windows\n",
    "cap.release()\n",
    "cv2.destroyAllWindows()"
   ]
  },
  {
   "cell_type": "code",
   "execution_count": null,
   "metadata": {},
   "outputs": [],
   "source": []
  }
 ],
 "metadata": {
  "kernelspec": {
   "display_name": "Python 3",
   "language": "python",
   "name": "python3"
  },
  "language_info": {
   "codemirror_mode": {
    "name": "ipython",
    "version": 3
   },
   "file_extension": ".py",
   "mimetype": "text/x-python",
   "name": "python",
   "nbconvert_exporter": "python",
   "pygments_lexer": "ipython3",
   "version": "3.7.4"
  }
 },
 "nbformat": 4,
 "nbformat_minor": 2
}
