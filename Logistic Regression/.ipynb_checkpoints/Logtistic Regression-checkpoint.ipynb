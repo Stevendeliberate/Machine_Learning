{
 "cells": [
  {
   "cell_type": "code",
   "execution_count": 1,
   "metadata": {},
   "outputs": [],
   "source": [
    "import numpy as np\n",
    "import matplotlib.pyplot as plt"
   ]
  },
  {
   "cell_type": "code",
   "execution_count": 2,
   "metadata": {},
   "outputs": [
    {
     "name": "stdout",
     "output_type": "stream",
     "text": [
      "[[-0.017612 14.053064  0.      ]\n",
      " [-1.395634  4.662541  1.      ]\n",
      " [-0.752157  6.53862   0.      ]]\n"
     ]
    }
   ],
   "source": [
    "data = np.genfromtxt(\"LR-testSet.csv\",delimiter=\",\")\n",
    "print(data[:3,:])"
   ]
  },
  {
   "cell_type": "code",
   "execution_count": 3,
   "metadata": {},
   "outputs": [
    {
     "name": "stdout",
     "output_type": "stream",
     "text": [
      "[[-0.017612 14.053064]\n",
      " [-1.395634  4.662541]\n",
      " [-0.752157  6.53862 ]]\n",
      "[0. 1. 0.]\n"
     ]
    }
   ],
   "source": [
    "x_data = data[:,:2]\n",
    "y_data = data[:,2]\n",
    "print(x_data[:3])\n",
    "print(y_data[:3])"
   ]
  },
  {
   "cell_type": "code",
   "execution_count": 4,
   "metadata": {},
   "outputs": [],
   "source": [
    "#画图\n",
    "def plot(data):\n",
    "    x0 = []\n",
    "    y0 = []\n",
    "    x1 = []\n",
    "    y1 = []\n",
    "    #分类\n",
    "    for i in range(len(data)):\n",
    "        if data[i,2] == 0:\n",
    "            x0.append(data[i,0])\n",
    "            y0.append(data[i,1])\n",
    "        else:\n",
    "            x1.append(data[i,0])\n",
    "            y1.append(data[i,1])\n",
    "    plt.scatter(x0,y0,c = 'b' , marker=\"o\")\n",
    "    plt.scatter(x1,y1,c = 'r' , marker='x')"
   ]
  },
  {
   "cell_type": "code",
   "execution_count": 5,
   "metadata": {},
   "outputs": [],
   "source": [
    "def sigmoid(x):\n",
    "    return 1 / ( 1 + np.exp(-x) )"
   ]
  },
  {
   "cell_type": "code",
   "execution_count": 6,
   "metadata": {},
   "outputs": [],
   "source": [
    "def cost_function(x , y , theta):\n",
    "    h_theta_x = sigmoid(np.dot(x , theta.T))\n",
    "    I = np.ones(len(y))\n",
    "    left = np.dot(y.T , np.log(h_theta_x))\n",
    "    right = np.dot((I - y).T , np.log(I - h_theta_x))\n",
    "    return -(left + right)"
   ]
  },
  {
   "cell_type": "code",
   "execution_count": 33,
   "metadata": {},
   "outputs": [],
   "source": [
    "def gradient_descent(x , y , theta , lr , epochs):\n",
    "    m = len(x)\n",
    "    theta_gard = 0\n",
    "    costList = []\n",
    "    for i in range(epochs):\n",
    "        h_theta_x = sigmoid(np.dot(x , theta.T))\n",
    "        theta_gard = np.dot(x.T , h_theta_x - y) / m\n",
    "        theta = theta - lr * theta_gard\n",
    "        \n",
    "        if i % 50 == 0:\n",
    "            costList.append(cost_function(x , y , theta))\n",
    "    return theta,costList"
   ]
  },
  {
   "cell_type": "code",
   "execution_count": 34,
   "metadata": {},
   "outputs": [],
   "source": [
    "#数据预处理\n",
    "x = np.c_[np.ones(len(x_data)) , x_data]\n",
    "theta = np.ones(3)"
   ]
  },
  {
   "cell_type": "code",
   "execution_count": 35,
   "metadata": {},
   "outputs": [
    {
     "data": {
      "text/plain": [
       "5.752727132694213"
      ]
     },
     "execution_count": 35,
     "metadata": {},
     "output_type": "execute_result"
    }
   ],
   "source": [
    "cost_function(x , y_data , theta) / 100"
   ]
  },
  {
   "cell_type": "code",
   "execution_count": 36,
   "metadata": {},
   "outputs": [],
   "source": [
    "ws,costList = gradient_descent(x , y_data , theta , 0.001 , 10000)"
   ]
  },
  {
   "cell_type": "code",
   "execution_count": 11,
   "metadata": {},
   "outputs": [
    {
     "data": {
      "image/png": "[encoded data removed]",
      "text/plain": [
       "<Figure size 432x288 with 1 Axes>"
      ]
     },
     "metadata": {
      "needs_background": "light"
     },
     "output_type": "display_data"
    }
   ],
   "source": [
    "plot(data)\n",
    "x_test = np.array([-4,3])\n",
    "y_test = (-ws[0] - x_test*ws[1])/ws[2]\n",
    "plt.plot(x_test , y_test , 'k')\n",
    "plt.show()"
   ]
  },
  {
   "cell_type": "code",
   "execution_count": 12,
   "metadata": {},
   "outputs": [
    {
     "data": {
      "text/plain": [
       "array([ 2.05827759,  0.35106523, -0.3634033 ])"
      ]
     },
     "execution_count": 12,
     "metadata": {},
     "output_type": "execute_result"
    }
   ],
   "source": [
    "ws"
   ]
  },
  {
   "cell_type": "code",
   "execution_count": 13,
   "metadata": {},
   "outputs": [],
   "source": [
    "from sklearn.metrics import classification_report\n",
    "from sklearn import preprocessing"
   ]
  },
  {
   "cell_type": "code",
   "execution_count": 14,
   "metadata": {},
   "outputs": [
    {
     "data": {
      "image/png": "[encoded data removed]",
      "text/plain": [
       "<Figure size 432x288 with 1 Axes>"
      ]
     },
     "metadata": {
      "needs_background": "light"
     },
     "output_type": "display_data"
    }
   ],
   "source": [
    "X = preprocessing.scale(x)\n",
    "X.sort(axis = 0)\n",
    "plt.plot(X[:,1],X[:,2])\n",
    "plt.show()"
   ]
  },
  {
   "cell_type": "code",
   "execution_count": 15,
   "metadata": {},
   "outputs": [],
   "source": [
    "#数据均值标准化\n",
    "def standardization(x):\n",
    "    standard = np.ones(len(x))\n",
    "    for i in range(len(x)):\n",
    "        standard[i] = (x[i] - x.mean())/x.var()\n",
    "    return standard"
   ]
  },
  {
   "cell_type": "code",
   "execution_count": 16,
   "metadata": {},
   "outputs": [
    {
     "name": "stderr",
     "output_type": "stream",
     "text": [
      "C:\\Users\\steven_cha\\Anaconda3\\lib\\site-packages\\ipykernel_launcher.py:5: RuntimeWarning: invalid value encountered in double_scalars\n",
      "  \"\"\"\n"
     ]
    },
    {
     "data": {
      "image/png": "[encoded data removed]",
      "text/plain": [
       "<Figure size 432x288 with 1 Axes>"
      ]
     },
     "metadata": {
      "needs_background": "light"
     },
     "output_type": "display_data"
    }
   ],
   "source": [
    "for i in range(3):\n",
    "    X[:,i] = standardization(x[:,i])\n",
    "X.sort(axis = 0)\n",
    "plt.plot(X[:,1],X[:,2])\n",
    "plt.show()"
   ]
  },
  {
   "cell_type": "code",
   "execution_count": 42,
   "metadata": {},
   "outputs": [
    {
     "name": "stderr",
     "output_type": "stream",
     "text": [
      "C:\\Users\\steven_cha\\Anaconda3\\lib\\site-packages\\ipykernel_launcher.py:5: RuntimeWarning: invalid value encountered in double_scalars\n",
      "  \"\"\"\n"
     ]
    }
   ],
   "source": [
    "for i in range(3):\n",
    "    X[:,i] = standardization(x[:,i])\n",
    "\n",
    "X[:,0] = np.zeros(len(X))\n"
   ]
  },
  {
   "cell_type": "code",
   "execution_count": 41,
   "metadata": {},
   "outputs": [
    {
     "data": {
      "image/png": "[encoded data removed]",
      "text/plain": [
       "<Figure size 432x288 with 1 Axes>"
      ]
     },
     "metadata": {
      "needs_background": "light"
     },
     "output_type": "display_data"
    }
   ],
   "source": [
    "x0 = np.linspace(0,10000,200)\n",
    "plt.plot(x0 , costList , 'r')\n",
    "plt.show()"
   ]
  },
  {
   "cell_type": "code",
   "execution_count": 44,
   "metadata": {},
   "outputs": [],
   "source": [
    "ws2,costList2 = gradient_descent(X , y_data , theta , 0.001 , 10000)"
   ]
  },
  {
   "cell_type": "code",
   "execution_count": 45,
   "metadata": {},
   "outputs": [
    {
     "data": {
      "image/png": "[encoded data removed]",
      "text/plain": [
       "<Figure size 432x288 with 1 Axes>"
      ]
     },
     "metadata": {
      "needs_background": "light"
     },
     "output_type": "display_data"
    }
   ],
   "source": [
    "plot(data)\n",
    "x_test = np.array([-4,3])\n",
    "y_test = (-ws2[0] - x_test*ws2[1])/ws[2]\n",
    "plt.plot(x_test , y_test , 'k')\n",
    "plt.show()"
   ]
  },
  {
   "cell_type": "code",
   "execution_count": 47,
   "metadata": {},
   "outputs": [
    {
     "data": {
      "image/png": "[encoded data removed]",
      "text/plain": [
       "<Figure size 432x288 with 1 Axes>"
      ]
     },
     "metadata": {
      "needs_background": "light"
     },
     "output_type": "display_data"
    }
   ],
   "source": [
    "x1 = np.linspace(0,10000,200)\n",
    "plt.plot(x1 , costList2 , 'r')\n",
    "plt.show()"
   ]
  },
  {
   "cell_type": "code",
   "execution_count": null,
   "metadata": {},
   "outputs": [],
   "source": []
  }
 ],
 "metadata": {
  "kernelspec": {
   "display_name": "Python 3",
   "language": "python",
   "name": "python3"
  },
  "language_info": {
   "codemirror_mode": {
    "name": "ipython",
    "version": 3
   },
   "file_extension": ".py",
   "mimetype": "text/x-python",
   "name": "python",
   "nbconvert_exporter": "python",
   "pygments_lexer": "ipython3",
   "version": "3.7.0"
  }
 },
 "nbformat": 4,
 "nbformat_minor": 2
}
