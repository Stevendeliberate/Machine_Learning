{
 "cells": [
  {
   "cell_type": "code",
   "execution_count": 13,
   "metadata": {},
   "outputs": [],
   "source": [
    "import matplotlib.pyplot as plt\n",
    "import numpy as np\n",
    "from sklearn.metrics import classification_report #用来评估\n",
    "from sklearn import preprocessing #用来数据标准化\n",
    "#数据是否需要标准化\n",
    "scale = True"
   ]
  },
  {
   "cell_type": "code",
   "execution_count": 14,
   "metadata": {},
   "outputs": [
    {
     "data": {
      "image/png": "[encoded data removed]",
      "text/plain": [
       "<Figure size 432x288 with 1 Axes>"
      ]
     },
     "metadata": {
      "needs_background": "light"
     },
     "output_type": "display_data"
    }
   ],
   "source": [
    "#载入数据\n",
    "data = np.genfromtxt('LR-testSet.csv',delimiter=\",\")\n",
    "x_data = data[:,:-1]\n",
    "y_data = data[:,-1]\n",
    "\n",
    "def plot():\n",
    "    x0 = []\n",
    "    x1 = []\n",
    "    y0 = []\n",
    "    y1 = []\n",
    "    for i in range(len(x_data)):\n",
    "        if y_data[i] == 0:\n",
    "            x0.append(x_data[i,0])\n",
    "            y0.append(x_data[i,1])\n",
    "        else:\n",
    "            x1.append(x_data[i,0])\n",
    "            y1.append(x_data[i,1])\n",
    "    #画图\n",
    "    scatter0 = plt.scatter(x0,y0,c='b',marker = 'o')\n",
    "    scatter1 = plt.scatter(x1,y1,c='r',marker = 'x')\n",
    "    #画图例\n",
    "    plt.legend(handles = [scatter0,scatter1],labels = ['label0','label1'],loc = 'best')\n",
    "plot()\n",
    "plt.show()"
   ]
  },
  {
   "cell_type": "code",
   "execution_count": 15,
   "metadata": {},
   "outputs": [
    {
     "name": "stdout",
     "output_type": "stream",
     "text": [
      "(100, 2)\n",
      "(100, 1)\n",
      "(100, 3)\n"
     ]
    }
   ],
   "source": [
    "#数据处理，添加偏置项\n",
    "x_data = data[:,:-1]\n",
    "y_data = data[:,-1,np.newaxis]\n",
    "\n",
    "print(np.mat(x_data).shape)\n",
    "print(np.mat(y_data).shape)\n",
    "\n",
    "#给样本添加偏置项\n",
    "X_data = np.concatenate((np.ones((100,1)),x_data),axis = 1)\n",
    "print(X_data.shape)"
   ]
  },
  {
   "cell_type": "code",
   "execution_count": 16,
   "metadata": {},
   "outputs": [],
   "source": [
    "def sigmoid(x):\n",
    "    return 1.0/(1+np.exp(-x))\n",
    "\n",
    "def cost(xMat , yMat , ws):\n",
    "    left = np.multiply(yMat , np.log(sigmoid(xMat * ws)))\n",
    "    right = np.multiply(1 - yMat , np.log(1 - sigmoid(xMat * ws)))\n",
    "    return np.sum(left + right) / -(len(xMat))\n",
    "\n",
    "def gradAscent(xArr , yArr):\n",
    "    if scale == True:\n",
    "        xArr = preprocessing.scale(xArr)\n",
    "    xMat = np.mat(xArr)\n",
    "    yMat = np.mat(yArr)\n",
    "    \n",
    "    lr = 0.001\n",
    "    epochs = 10000\n",
    "    costList = []\n",
    "    #计算数据行列数\n",
    "    #行代表数据个数，列代表权值个数\n",
    "    m,n = np.shape(xMat)\n",
    "    #初始化权值\n",
    "    ws = np.mat(np.ones((n,1)))\n",
    "    \n",
    "    for i in range(epochs + 1):\n",
    "        #xMat和weight矩阵相乘\n",
    "        h = sigmoid(xMat*ws)\n",
    "        #计算误差\n",
    "        ws_gard = xMat.T * (h - yMat)/m\n",
    "        ws = ws - lr*ws_gard\n",
    "        \n",
    "        if i % 50 ==0:\n",
    "            costList.append(cost(xMat,yMat,ws))\n",
    "    return ws,costList"
   ]
  },
  {
   "cell_type": "code",
   "execution_count": 17,
   "metadata": {},
   "outputs": [
    {
     "name": "stdout",
     "output_type": "stream",
     "text": [
      "[[ 1.        ]\n",
      " [ 0.30816757]\n",
      " [-1.76171512]]\n"
     ]
    }
   ],
   "source": [
    "#训练模型，得到权值和cost值的变化\n",
    "ws,costList = gradAscent(X_data , y_data)\n",
    "print(ws)"
   ]
  },
  {
   "cell_type": "code",
   "execution_count": 18,
   "metadata": {},
   "outputs": [],
   "source": [
    "if scale == False:\n",
    "    #画图决策边界\n",
    "    plot()\n",
    "    x_test = [[-4],[3]]\n",
    "    y_test = (-ws[0] - x_test * ws[1])/ws[2]\n",
    "    plt.plot(x_test , y_test , 'k')\n",
    "    plt.show()"
   ]
  },
  {
   "cell_type": "code",
   "execution_count": 19,
   "metadata": {},
   "outputs": [
    {
     "data": {
      "image/png": "[encoded data removed]",
      "text/plain": [
       "<Figure size 432x288 with 1 Axes>"
      ]
     },
     "metadata": {
      "needs_background": "light"
     },
     "output_type": "display_data"
    }
   ],
   "source": [
    "#画图 loss值的变化\n",
    "x = np.linspace(0 , 10000 , 201)\n",
    "plt.plot(x ,costList, c = 'r')\n",
    "plt.show()"
   ]
  },
  {
   "cell_type": "code",
   "execution_count": 20,
   "metadata": {},
   "outputs": [
    {
     "name": "stdout",
     "output_type": "stream",
     "text": [
      "             precision    recall  f1-score   support\n",
      "\n",
      "        0.0       0.92      1.00      0.96        47\n",
      "        1.0       1.00      0.92      0.96        53\n",
      "\n",
      "avg / total       0.96      0.96      0.96       100\n",
      "\n"
     ]
    }
   ],
   "source": [
    "#预测\n",
    "def predict(x_data,ws):\n",
    "    if scale == True:\n",
    "        x_data = preprocessing.scale(x_data)\n",
    "    xMat = np.mat(x_data)\n",
    "    ws = np.mat(ws)\n",
    "    return[1 if x >= 0.5 else 0 for x in sigmoid(xMat*ws)]\n",
    "\n",
    "predictions = predict(X_data,ws)\n",
    "print(classification_report(y_data , predictions))"
   ]
  },
  {
   "cell_type": "code",
   "execution_count": null,
   "metadata": {},
   "outputs": [],
   "source": []
  }
 ],
 "metadata": {
  "kernelspec": {
   "display_name": "Python 3",
   "language": "python",
   "name": "python3"
  },
  "language_info": {
   "codemirror_mode": {
    "name": "ipython",
    "version": 3
   },
   "file_extension": ".py",
   "mimetype": "text/x-python",
   "name": "python",
   "nbconvert_exporter": "python",
   "pygments_lexer": "ipython3",
   "version": "3.7.0"
  }
 },
 "nbformat": 4,
 "nbformat_minor": 2
}
