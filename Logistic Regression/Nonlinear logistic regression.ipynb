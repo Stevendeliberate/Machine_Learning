{
 "cells": [
  {
   "cell_type": "code",
   "execution_count": 2,
   "metadata": {},
   "outputs": [],
   "source": [
    "import numpy as np\n",
    "import matplotlib.pyplot as plt\n",
    "from sklearn.metrics import classification_report\n",
    "from sklearn.preprocessing import PolynomialFeatures"
   ]
  },
  {
   "cell_type": "code",
   "execution_count": 3,
   "metadata": {},
   "outputs": [],
   "source": [
    "#载入数据\n",
    "data = np.genfromtxt('LR-testSet2.txt',delimiter=',')\n",
    "x_data = data[:,:-1]\n",
    "y_data = data[:,-1]"
   ]
  },
  {
   "cell_type": "code",
   "execution_count": 8,
   "metadata": {},
   "outputs": [],
   "source": [
    "#绘制样本散点图\n",
    "def plot(data):\n",
    "    x0 = []\n",
    "    y0 = []\n",
    "    x1 = []\n",
    "    y1 = []\n",
    "    \n",
    "    #分类 0  1\n",
    "    for i in range(len(data)):\n",
    "        if data[i,2] == 0:\n",
    "            x0.append(data[i,0])\n",
    "            y0.append(data[i,1])\n",
    "        else:\n",
    "            x1.append(data[i,0])\n",
    "            y1.append(data[i,1])\n",
    "    scatter0 = plt.scatter(x0,y0 ,c = 'b' , marker = 'o')\n",
    "    scatter1 = plt.scatter(x1,y1, c = 'r' , marker = 'x')\n",
    "    \n",
    "    #绘制图例\n",
    "    plt.legend(handles = [scatter0 , scatter1] , labels = ['label0' , 'label1'] , loc = 'best')"
   ]
  },
  {
   "cell_type": "code",
   "execution_count": 9,
   "metadata": {},
   "outputs": [
    {
     "data": {
      "image/png": "[encoded data removed]",
      "text/plain": [
       "<Figure size 432x288 with 1 Axes>"
      ]
     },
     "metadata": {
      "needs_background": "light"
     },
     "output_type": "display_data"
    }
   ],
   "source": [
    "plot(data)\n",
    "plt.show()"
   ]
  },
  {
   "cell_type": "code",
   "execution_count": 24,
   "metadata": {},
   "outputs": [
    {
     "data": {
      "text/plain": [
       "array([1., 1., 1., 1., 1., 1.])"
      ]
     },
     "execution_count": 24,
     "metadata": {},
     "output_type": "execute_result"
    }
   ],
   "source": [
    "#数据预处理\n",
    "#非线性逻辑回归，即将线性多项式的一元线性回归方程 变为多项式线性回归方程\n",
    "#给样本添加degree\n",
    "x_poly = np.c_[np.ones(len(x_data)) , x_data , x_data[:,0]**2 , x_data[:,0] * x_data[:,1] ,x_data[:,1]**2 ]\n",
    "\n",
    "#theta设置\n",
    "theta = np.ones(np.size(x_poly , 1))"
   ]
  },
  {
   "cell_type": "code",
   "execution_count": 18,
   "metadata": {},
   "outputs": [],
   "source": [
    "#sigmodi函数\n",
    "def sigmoid(x):\n",
    "    return 1 / ( 1 + np.exp(-x))"
   ]
  },
  {
   "cell_type": "code",
   "execution_count": 19,
   "metadata": {},
   "outputs": [],
   "source": [
    "#cost函数\n",
    "def cost_function(x , y , theta):\n",
    "    h_theta_x = sigmoid(np.dot(x , theta . T))\n",
    "    I = np.ones(len(y))\n",
    "    left = np.dot(y.T , np.log(h_theta_x))\n",
    "    right = np.dot((I - y).T , np.log(I - h_theta_x))\n",
    "    return -(left + right)"
   ]
  },
  {
   "cell_type": "code",
   "execution_count": 20,
   "metadata": {},
   "outputs": [],
   "source": [
    "#gradient descent函数\n",
    "def gradient_descent(x , y , theta , lr , epochs):\n",
    "    m = len(x) \n",
    "    costList = []\n",
    "    for i in range(epochs):\n",
    "        h_theta_x = sigmoid(np.dot(x , theta . T))\n",
    "        theta_gard = np.dot(x.T , h_theta_x - y) / m\n",
    "        theta = theta - lr * theta_gard\n",
    "        \n",
    "        if i % 50 == 0:\n",
    "            costList.append(cost_function(x , y , theta))\n",
    "    return theta , costList"
   ]
  },
  {
   "cell_type": "code",
   "execution_count": 25,
   "metadata": {},
   "outputs": [],
   "source": [
    "ws , costList = gradient_descent(x_poly , y_data , theta , 0.03 , 50000)"
   ]
  },
  {
   "cell_type": "code",
   "execution_count": 26,
   "metadata": {},
   "outputs": [
    {
     "data": {
      "text/plain": [
       "array([ 4.29728039,  2.56618437,  3.35373432, -9.98020516, -5.85512928,\n",
       "       -9.66817518])"
      ]
     },
     "execution_count": 26,
     "metadata": {},
     "output_type": "execute_result"
    }
   ],
   "source": [
    "ws"
   ]
  },
  {
   "cell_type": "code",
   "execution_count": 27,
   "metadata": {},
   "outputs": [
    {
     "data": {
      "image/png": "[encoded data removed]",
      "text/plain": [
       "<Figure size 432x288 with 1 Axes>"
      ]
     },
     "metadata": {
      "needs_background": "light"
     },
     "output_type": "display_data"
    }
   ],
   "source": [
    "index = np.linspace(0,50000 , len(costList))\n",
    "plt.plot(costList , index , 'r')\n",
    "plt.show()"
   ]
  },
  {
   "cell_type": "code",
   "execution_count": null,
   "metadata": {},
   "outputs": [],
   "source": []
  }
 ],
 "metadata": {
  "kernelspec": {
   "display_name": "Python 3",
   "language": "python",
   "name": "python3"
  },
  "language_info": {
   "codemirror_mode": {
    "name": "ipython",
    "version": 3
   },
   "file_extension": ".py",
   "mimetype": "text/x-python",
   "name": "python",
   "nbconvert_exporter": "python",
   "pygments_lexer": "ipython3",
   "version": "3.7.0"
  }
 },
 "nbformat": 4,
 "nbformat_minor": 2
}
